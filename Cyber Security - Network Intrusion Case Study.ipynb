{
 "cells": [
  {
   "cell_type": "code",
   "execution_count": 1,
   "id": "005c63f0",
   "metadata": {},
   "outputs": [],
   "source": [
    "import pandas as pd\n",
    "import numpy as np\n",
    "import matplotlib.pyplot as plt\n",
    "import seaborn as sns\n",
    "from sklearn.model_selection import train_test_split\n",
    "import warnings\n",
    "warnings.filterwarnings(\"ignore\")"
   ]
  },
  {
   "cell_type": "markdown",
   "id": "ece31750",
   "metadata": {},
   "source": [
    "# Importing all datasets\n"
   ]
  },
  {
   "cell_type": "code",
   "execution_count": 2,
   "id": "b748347e",
   "metadata": {},
   "outputs": [],
   "source": [
    "Data_of_Attack_Back = pd.read_csv(r\"C:\\Users\\Pranav\\Downloads\\12. Capstone Case Study - Cyber Security Case Study\\Data_of_Attack_Back.csv\")"
   ]
  },
  {
   "cell_type": "code",
   "execution_count": 3,
   "id": "623588c0",
   "metadata": {},
   "outputs": [
    {
     "name": "stdout",
     "output_type": "stream",
     "text": [
      "<class 'pandas.core.frame.DataFrame'>\n",
      "RangeIndex: 968 entries, 0 to 967\n",
      "Data columns (total 41 columns):\n",
      " #   Column                        Non-Null Count  Dtype  \n",
      "---  ------                        --------------  -----  \n",
      " 0   duration                      968 non-null    float64\n",
      " 1    protocol_type                968 non-null    int64  \n",
      " 2    service                      968 non-null    int64  \n",
      " 3    flag                         968 non-null    float64\n",
      " 4    src_bytes                    968 non-null    float64\n",
      " 5    dst_bytes                    968 non-null    float64\n",
      " 6    land                         968 non-null    int64  \n",
      " 7    wrong_fragment               968 non-null    int64  \n",
      " 8    urgent                       968 non-null    int64  \n",
      " 9    hot                          968 non-null    float64\n",
      " 10   num_failed_logins            968 non-null    int64  \n",
      " 11   logged_in                    968 non-null    float64\n",
      " 12   num_compromised              968 non-null    float64\n",
      " 13   root_shell                   968 non-null    int64  \n",
      " 14   su_attempted                 968 non-null    int64  \n",
      " 15   num_root                     968 non-null    int64  \n",
      " 16   num_file_creations           968 non-null    int64  \n",
      " 17   num_shells                   968 non-null    int64  \n",
      " 18   num_access_files             968 non-null    int64  \n",
      " 19   num_outbound_cmds            968 non-null    int64  \n",
      " 20   is_host_login                968 non-null    int64  \n",
      " 21   is_guest_login               968 non-null    int64  \n",
      " 22   count                        968 non-null    float64\n",
      " 23   srv_count                    968 non-null    float64\n",
      " 24   serror_rate                  968 non-null    float64\n",
      " 25   srv_error_rate               968 non-null    float64\n",
      " 26   rerror_rate                  968 non-null    float64\n",
      " 27   srv_rerror_rate              968 non-null    float64\n",
      " 28   same_srv_rate                968 non-null    float64\n",
      " 29   diff_srv_rate                968 non-null    float64\n",
      " 30   srv_diff_host_rate           968 non-null    float64\n",
      " 31   dst_host_count               968 non-null    float64\n",
      " 32   dst_host_srv_count           968 non-null    float64\n",
      " 33   dst_host_same_srv_rate       968 non-null    float64\n",
      " 34   dst_host_diff_srv_rate       968 non-null    int64  \n",
      " 35   dst_host_same_src_port_rate  968 non-null    float64\n",
      " 36   dst_host_srv_diff_host_rate  968 non-null    int64  \n",
      " 37   dst_host_serror_rate         968 non-null    float64\n",
      " 38   dst_host_srv_serror_rate     968 non-null    float64\n",
      " 39   dst_host_rerror_rate         968 non-null    float64\n",
      " 40   dst_host_srv_rerror_rate     968 non-null    float64\n",
      "dtypes: float64(24), int64(17)\n",
      "memory usage: 310.2 KB\n"
     ]
    }
   ],
   "source": [
    " Data_of_Attack_Back.info()"
   ]
  },
  {
   "cell_type": "code",
   "execution_count": 4,
   "id": "b8162a78",
   "metadata": {},
   "outputs": [],
   "source": [
    "#Adding a new column Attack\n",
    "Data_of_Attack_Back['Attack'] = 'Back'"
   ]
  },
  {
   "cell_type": "code",
   "execution_count": 5,
   "id": "5412e63d",
   "metadata": {},
   "outputs": [
    {
     "data": {
      "text/html": [
       "<div>\n",
       "<style scoped>\n",
       "    .dataframe tbody tr th:only-of-type {\n",
       "        vertical-align: middle;\n",
       "    }\n",
       "\n",
       "    .dataframe tbody tr th {\n",
       "        vertical-align: top;\n",
       "    }\n",
       "\n",
       "    .dataframe thead th {\n",
       "        text-align: right;\n",
       "    }\n",
       "</style>\n",
       "<table border=\"1\" class=\"dataframe\">\n",
       "  <thead>\n",
       "    <tr style=\"text-align: right;\">\n",
       "      <th></th>\n",
       "      <th>duration</th>\n",
       "      <th>protocol_type</th>\n",
       "      <th>service</th>\n",
       "      <th>flag</th>\n",
       "      <th>src_bytes</th>\n",
       "      <th>dst_bytes</th>\n",
       "      <th>land</th>\n",
       "      <th>wrong_fragment</th>\n",
       "      <th>urgent</th>\n",
       "      <th>hot</th>\n",
       "      <th>...</th>\n",
       "      <th>dst_host_srv_count</th>\n",
       "      <th>dst_host_same_srv_rate</th>\n",
       "      <th>dst_host_diff_srv_rate</th>\n",
       "      <th>dst_host_same_src_port_rate</th>\n",
       "      <th>dst_host_srv_diff_host_rate</th>\n",
       "      <th>dst_host_serror_rate</th>\n",
       "      <th>dst_host_srv_serror_rate</th>\n",
       "      <th>dst_host_rerror_rate</th>\n",
       "      <th>dst_host_srv_rerror_rate</th>\n",
       "      <th>Attack</th>\n",
       "    </tr>\n",
       "  </thead>\n",
       "  <tbody>\n",
       "    <tr>\n",
       "      <th>0</th>\n",
       "      <td>0.0</td>\n",
       "      <td>0</td>\n",
       "      <td>0</td>\n",
       "      <td>0.0</td>\n",
       "      <td>0.5454</td>\n",
       "      <td>0.08314</td>\n",
       "      <td>0</td>\n",
       "      <td>0</td>\n",
       "      <td>0</td>\n",
       "      <td>0.2</td>\n",
       "      <td>...</td>\n",
       "      <td>0.001</td>\n",
       "      <td>0.1</td>\n",
       "      <td>0</td>\n",
       "      <td>0.100</td>\n",
       "      <td>0</td>\n",
       "      <td>0.000</td>\n",
       "      <td>0.000</td>\n",
       "      <td>0.000</td>\n",
       "      <td>0.000</td>\n",
       "      <td>Back</td>\n",
       "    </tr>\n",
       "    <tr>\n",
       "      <th>1</th>\n",
       "      <td>0.0</td>\n",
       "      <td>0</td>\n",
       "      <td>0</td>\n",
       "      <td>0.0</td>\n",
       "      <td>0.5454</td>\n",
       "      <td>0.08314</td>\n",
       "      <td>0</td>\n",
       "      <td>0</td>\n",
       "      <td>0</td>\n",
       "      <td>0.2</td>\n",
       "      <td>...</td>\n",
       "      <td>0.002</td>\n",
       "      <td>0.1</td>\n",
       "      <td>0</td>\n",
       "      <td>0.050</td>\n",
       "      <td>0</td>\n",
       "      <td>0.000</td>\n",
       "      <td>0.000</td>\n",
       "      <td>0.000</td>\n",
       "      <td>0.000</td>\n",
       "      <td>Back</td>\n",
       "    </tr>\n",
       "    <tr>\n",
       "      <th>2</th>\n",
       "      <td>0.0</td>\n",
       "      <td>0</td>\n",
       "      <td>0</td>\n",
       "      <td>0.0</td>\n",
       "      <td>0.5454</td>\n",
       "      <td>0.08314</td>\n",
       "      <td>0</td>\n",
       "      <td>0</td>\n",
       "      <td>0</td>\n",
       "      <td>0.2</td>\n",
       "      <td>...</td>\n",
       "      <td>0.003</td>\n",
       "      <td>0.1</td>\n",
       "      <td>0</td>\n",
       "      <td>0.033</td>\n",
       "      <td>0</td>\n",
       "      <td>0.000</td>\n",
       "      <td>0.000</td>\n",
       "      <td>0.000</td>\n",
       "      <td>0.000</td>\n",
       "      <td>Back</td>\n",
       "    </tr>\n",
       "    <tr>\n",
       "      <th>3</th>\n",
       "      <td>0.0</td>\n",
       "      <td>0</td>\n",
       "      <td>0</td>\n",
       "      <td>0.0</td>\n",
       "      <td>0.5454</td>\n",
       "      <td>0.08314</td>\n",
       "      <td>0</td>\n",
       "      <td>0</td>\n",
       "      <td>0</td>\n",
       "      <td>0.2</td>\n",
       "      <td>...</td>\n",
       "      <td>0.004</td>\n",
       "      <td>0.1</td>\n",
       "      <td>0</td>\n",
       "      <td>0.025</td>\n",
       "      <td>0</td>\n",
       "      <td>0.000</td>\n",
       "      <td>0.000</td>\n",
       "      <td>0.000</td>\n",
       "      <td>0.000</td>\n",
       "      <td>Back</td>\n",
       "    </tr>\n",
       "    <tr>\n",
       "      <th>4</th>\n",
       "      <td>0.0</td>\n",
       "      <td>0</td>\n",
       "      <td>0</td>\n",
       "      <td>0.0</td>\n",
       "      <td>0.5454</td>\n",
       "      <td>0.08314</td>\n",
       "      <td>0</td>\n",
       "      <td>0</td>\n",
       "      <td>0</td>\n",
       "      <td>0.2</td>\n",
       "      <td>...</td>\n",
       "      <td>0.005</td>\n",
       "      <td>0.1</td>\n",
       "      <td>0</td>\n",
       "      <td>0.020</td>\n",
       "      <td>0</td>\n",
       "      <td>0.000</td>\n",
       "      <td>0.000</td>\n",
       "      <td>0.000</td>\n",
       "      <td>0.000</td>\n",
       "      <td>Back</td>\n",
       "    </tr>\n",
       "    <tr>\n",
       "      <th>...</th>\n",
       "      <td>...</td>\n",
       "      <td>...</td>\n",
       "      <td>...</td>\n",
       "      <td>...</td>\n",
       "      <td>...</td>\n",
       "      <td>...</td>\n",
       "      <td>...</td>\n",
       "      <td>...</td>\n",
       "      <td>...</td>\n",
       "      <td>...</td>\n",
       "      <td>...</td>\n",
       "      <td>...</td>\n",
       "      <td>...</td>\n",
       "      <td>...</td>\n",
       "      <td>...</td>\n",
       "      <td>...</td>\n",
       "      <td>...</td>\n",
       "      <td>...</td>\n",
       "      <td>...</td>\n",
       "      <td>...</td>\n",
       "      <td>...</td>\n",
       "    </tr>\n",
       "    <tr>\n",
       "      <th>963</th>\n",
       "      <td>0.0</td>\n",
       "      <td>0</td>\n",
       "      <td>0</td>\n",
       "      <td>0.0</td>\n",
       "      <td>0.5454</td>\n",
       "      <td>0.08314</td>\n",
       "      <td>0</td>\n",
       "      <td>0</td>\n",
       "      <td>0</td>\n",
       "      <td>0.2</td>\n",
       "      <td>...</td>\n",
       "      <td>0.096</td>\n",
       "      <td>0.1</td>\n",
       "      <td>0</td>\n",
       "      <td>0.001</td>\n",
       "      <td>0</td>\n",
       "      <td>0.001</td>\n",
       "      <td>0.001</td>\n",
       "      <td>0.001</td>\n",
       "      <td>0.001</td>\n",
       "      <td>Back</td>\n",
       "    </tr>\n",
       "    <tr>\n",
       "      <th>964</th>\n",
       "      <td>0.0</td>\n",
       "      <td>0</td>\n",
       "      <td>0</td>\n",
       "      <td>0.0</td>\n",
       "      <td>0.5454</td>\n",
       "      <td>0.08314</td>\n",
       "      <td>0</td>\n",
       "      <td>0</td>\n",
       "      <td>0</td>\n",
       "      <td>0.2</td>\n",
       "      <td>...</td>\n",
       "      <td>0.097</td>\n",
       "      <td>0.1</td>\n",
       "      <td>0</td>\n",
       "      <td>0.001</td>\n",
       "      <td>0</td>\n",
       "      <td>0.001</td>\n",
       "      <td>0.001</td>\n",
       "      <td>0.001</td>\n",
       "      <td>0.001</td>\n",
       "      <td>Back</td>\n",
       "    </tr>\n",
       "    <tr>\n",
       "      <th>965</th>\n",
       "      <td>0.0</td>\n",
       "      <td>0</td>\n",
       "      <td>0</td>\n",
       "      <td>0.0</td>\n",
       "      <td>0.5454</td>\n",
       "      <td>0.08314</td>\n",
       "      <td>0</td>\n",
       "      <td>0</td>\n",
       "      <td>0</td>\n",
       "      <td>0.2</td>\n",
       "      <td>...</td>\n",
       "      <td>0.098</td>\n",
       "      <td>0.1</td>\n",
       "      <td>0</td>\n",
       "      <td>0.001</td>\n",
       "      <td>0</td>\n",
       "      <td>0.001</td>\n",
       "      <td>0.001</td>\n",
       "      <td>0.001</td>\n",
       "      <td>0.001</td>\n",
       "      <td>Back</td>\n",
       "    </tr>\n",
       "    <tr>\n",
       "      <th>966</th>\n",
       "      <td>0.0</td>\n",
       "      <td>0</td>\n",
       "      <td>0</td>\n",
       "      <td>0.0</td>\n",
       "      <td>0.5454</td>\n",
       "      <td>0.08314</td>\n",
       "      <td>0</td>\n",
       "      <td>0</td>\n",
       "      <td>0</td>\n",
       "      <td>0.2</td>\n",
       "      <td>...</td>\n",
       "      <td>0.099</td>\n",
       "      <td>0.1</td>\n",
       "      <td>0</td>\n",
       "      <td>0.001</td>\n",
       "      <td>0</td>\n",
       "      <td>0.001</td>\n",
       "      <td>0.001</td>\n",
       "      <td>0.001</td>\n",
       "      <td>0.001</td>\n",
       "      <td>Back</td>\n",
       "    </tr>\n",
       "    <tr>\n",
       "      <th>967</th>\n",
       "      <td>0.0</td>\n",
       "      <td>0</td>\n",
       "      <td>0</td>\n",
       "      <td>0.0</td>\n",
       "      <td>0.5454</td>\n",
       "      <td>0.08314</td>\n",
       "      <td>0</td>\n",
       "      <td>0</td>\n",
       "      <td>0</td>\n",
       "      <td>0.2</td>\n",
       "      <td>...</td>\n",
       "      <td>0.100</td>\n",
       "      <td>0.1</td>\n",
       "      <td>0</td>\n",
       "      <td>0.001</td>\n",
       "      <td>0</td>\n",
       "      <td>0.001</td>\n",
       "      <td>0.001</td>\n",
       "      <td>0.001</td>\n",
       "      <td>0.001</td>\n",
       "      <td>Back</td>\n",
       "    </tr>\n",
       "  </tbody>\n",
       "</table>\n",
       "<p>968 rows × 42 columns</p>\n",
       "</div>"
      ],
      "text/plain": [
       "     duration   protocol_type   service   flag   src_bytes   dst_bytes   land  \\\n",
       "0         0.0               0         0    0.0      0.5454     0.08314      0   \n",
       "1         0.0               0         0    0.0      0.5454     0.08314      0   \n",
       "2         0.0               0         0    0.0      0.5454     0.08314      0   \n",
       "3         0.0               0         0    0.0      0.5454     0.08314      0   \n",
       "4         0.0               0         0    0.0      0.5454     0.08314      0   \n",
       "..        ...             ...       ...    ...         ...         ...    ...   \n",
       "963       0.0               0         0    0.0      0.5454     0.08314      0   \n",
       "964       0.0               0         0    0.0      0.5454     0.08314      0   \n",
       "965       0.0               0         0    0.0      0.5454     0.08314      0   \n",
       "966       0.0               0         0    0.0      0.5454     0.08314      0   \n",
       "967       0.0               0         0    0.0      0.5454     0.08314      0   \n",
       "\n",
       "      wrong_fragment   urgent   hot  ...   dst_host_srv_count  \\\n",
       "0                  0        0   0.2  ...                0.001   \n",
       "1                  0        0   0.2  ...                0.002   \n",
       "2                  0        0   0.2  ...                0.003   \n",
       "3                  0        0   0.2  ...                0.004   \n",
       "4                  0        0   0.2  ...                0.005   \n",
       "..               ...      ...   ...  ...                  ...   \n",
       "963                0        0   0.2  ...                0.096   \n",
       "964                0        0   0.2  ...                0.097   \n",
       "965                0        0   0.2  ...                0.098   \n",
       "966                0        0   0.2  ...                0.099   \n",
       "967                0        0   0.2  ...                0.100   \n",
       "\n",
       "      dst_host_same_srv_rate   dst_host_diff_srv_rate  \\\n",
       "0                        0.1                        0   \n",
       "1                        0.1                        0   \n",
       "2                        0.1                        0   \n",
       "3                        0.1                        0   \n",
       "4                        0.1                        0   \n",
       "..                       ...                      ...   \n",
       "963                      0.1                        0   \n",
       "964                      0.1                        0   \n",
       "965                      0.1                        0   \n",
       "966                      0.1                        0   \n",
       "967                      0.1                        0   \n",
       "\n",
       "      dst_host_same_src_port_rate   dst_host_srv_diff_host_rate  \\\n",
       "0                           0.100                             0   \n",
       "1                           0.050                             0   \n",
       "2                           0.033                             0   \n",
       "3                           0.025                             0   \n",
       "4                           0.020                             0   \n",
       "..                            ...                           ...   \n",
       "963                         0.001                             0   \n",
       "964                         0.001                             0   \n",
       "965                         0.001                             0   \n",
       "966                         0.001                             0   \n",
       "967                         0.001                             0   \n",
       "\n",
       "      dst_host_serror_rate   dst_host_srv_serror_rate   dst_host_rerror_rate  \\\n",
       "0                    0.000                      0.000                  0.000   \n",
       "1                    0.000                      0.000                  0.000   \n",
       "2                    0.000                      0.000                  0.000   \n",
       "3                    0.000                      0.000                  0.000   \n",
       "4                    0.000                      0.000                  0.000   \n",
       "..                     ...                        ...                    ...   \n",
       "963                  0.001                      0.001                  0.001   \n",
       "964                  0.001                      0.001                  0.001   \n",
       "965                  0.001                      0.001                  0.001   \n",
       "966                  0.001                      0.001                  0.001   \n",
       "967                  0.001                      0.001                  0.001   \n",
       "\n",
       "      dst_host_srv_rerror_rate  Attack  \n",
       "0                        0.000    Back  \n",
       "1                        0.000    Back  \n",
       "2                        0.000    Back  \n",
       "3                        0.000    Back  \n",
       "4                        0.000    Back  \n",
       "..                         ...     ...  \n",
       "963                      0.001    Back  \n",
       "964                      0.001    Back  \n",
       "965                      0.001    Back  \n",
       "966                      0.001    Back  \n",
       "967                      0.001    Back  \n",
       "\n",
       "[968 rows x 42 columns]"
      ]
     },
     "execution_count": 5,
     "metadata": {},
     "output_type": "execute_result"
    }
   ],
   "source": [
    "Data_of_Attack_Back"
   ]
  },
  {
   "cell_type": "code",
   "execution_count": 6,
   "id": "65025db0",
   "metadata": {},
   "outputs": [],
   "source": [
    "Data_of_Attack_Back_BufferOverflow = pd.read_csv(r\"C:\\Users\\Pranav\\Downloads\\12. Capstone Case Study - Cyber Security Case Study\\Data_of_Attack_Back_BufferOverflow.csv\")"
   ]
  },
  {
   "cell_type": "code",
   "execution_count": 7,
   "id": "af455753",
   "metadata": {
    "scrolled": false
   },
   "outputs": [],
   "source": [
    "#Adding a new column Attack\n",
    "Data_of_Attack_Back_BufferOverflow['Attack'] = 'BufferOverflow'"
   ]
  },
  {
   "cell_type": "code",
   "execution_count": 8,
   "id": "d9a02134",
   "metadata": {
    "scrolled": true
   },
   "outputs": [
    {
     "data": {
      "text/plain": [
       "Index(['duration', ' protocol_type', ' service', ' flag', ' src_bytes',\n",
       "       ' dst_bytes', ' land', ' wrong_fragment', ' urgent', ' hot',\n",
       "       ' num_failed_logins', ' logged_in', ' num_compromised', ' root_shell',\n",
       "       ' su_attempted', ' num_root', ' num_file_creations', ' num_shells',\n",
       "       ' num_access_files', ' num_outbound_cmds', ' is_host_login',\n",
       "       ' is_guest_login', ' count', ' srv_count', ' serror_rate',\n",
       "       ' srv_error_rate', ' rerror_rate', ' srv_rerror_rate', ' same_srv_rate',\n",
       "       ' diff_srv_rate', ' srv_diff_host_rate', ' dst_host_count',\n",
       "       ' dst_host_srv_count', ' dst_host_same_srv_rate',\n",
       "       ' dst_host_diff_srv_rate', ' dst_host_same_src_port_rate',\n",
       "       ' dst_host_srv_diff_host_rate', ' dst_host_serror_rate',\n",
       "       ' dst_host_srv_serror_rate', ' dst_host_rerror_rate',\n",
       "       ' dst_host_srv_rerror_rate', 'Attack'],\n",
       "      dtype='object')"
      ]
     },
     "execution_count": 8,
     "metadata": {},
     "output_type": "execute_result"
    }
   ],
   "source": [
    "Data_of_Attack_Back_BufferOverflow.columns"
   ]
  },
  {
   "cell_type": "code",
   "execution_count": 9,
   "id": "dc79f2f9",
   "metadata": {},
   "outputs": [
    {
     "name": "stdout",
     "output_type": "stream",
     "text": [
      "<class 'pandas.core.frame.DataFrame'>\n",
      "RangeIndex: 30 entries, 0 to 29\n",
      "Data columns (total 42 columns):\n",
      " #   Column                        Non-Null Count  Dtype  \n",
      "---  ------                        --------------  -----  \n",
      " 0   duration                      30 non-null     float64\n",
      " 1    protocol_type                30 non-null     int64  \n",
      " 2    service                      30 non-null     float64\n",
      " 3    flag                         30 non-null     float64\n",
      " 4    src_bytes                    30 non-null     float64\n",
      " 5    dst_bytes                    30 non-null     float64\n",
      " 6    land                         30 non-null     int64  \n",
      " 7    wrong_fragment               30 non-null     int64  \n",
      " 8    urgent                       30 non-null     int64  \n",
      " 9    hot                          30 non-null     float64\n",
      " 10   num_failed_logins            30 non-null     int64  \n",
      " 11   logged_in                    30 non-null     float64\n",
      " 12   num_compromised              30 non-null     float64\n",
      " 13   root_shell                   30 non-null     float64\n",
      " 14   su_attempted                 30 non-null     int64  \n",
      " 15   num_root                     30 non-null     float64\n",
      " 16   num_file_creations           30 non-null     float64\n",
      " 17   num_shells                   30 non-null     int64  \n",
      " 18   num_access_files             30 non-null     int64  \n",
      " 19   num_outbound_cmds            30 non-null     int64  \n",
      " 20   is_host_login                30 non-null     int64  \n",
      " 21   is_guest_login               30 non-null     int64  \n",
      " 22   count                        30 non-null     float64\n",
      " 23   srv_count                    30 non-null     float64\n",
      " 24   serror_rate                  30 non-null     float64\n",
      " 25   srv_error_rate               30 non-null     int64  \n",
      " 26   rerror_rate                  30 non-null     float64\n",
      " 27   srv_rerror_rate              30 non-null     float64\n",
      " 28   same_srv_rate                30 non-null     float64\n",
      " 29   diff_srv_rate                30 non-null     float64\n",
      " 30   srv_diff_host_rate           30 non-null     int64  \n",
      " 31   dst_host_count               30 non-null     float64\n",
      " 32   dst_host_srv_count           30 non-null     float64\n",
      " 33   dst_host_same_srv_rate       30 non-null     float64\n",
      " 34   dst_host_diff_srv_rate       30 non-null     int64  \n",
      " 35   dst_host_same_src_port_rate  30 non-null     float64\n",
      " 36   dst_host_srv_diff_host_rate  30 non-null     float64\n",
      " 37   dst_host_serror_rate         30 non-null     int64  \n",
      " 38   dst_host_srv_serror_rate     30 non-null     int64  \n",
      " 39   dst_host_rerror_rate         30 non-null     float64\n",
      " 40   dst_host_srv_rerror_rate     30 non-null     float64\n",
      " 41  Attack                        30 non-null     object \n",
      "dtypes: float64(25), int64(16), object(1)\n",
      "memory usage: 10.0+ KB\n"
     ]
    }
   ],
   "source": [
    "Data_of_Attack_Back_BufferOverflow.info()"
   ]
  },
  {
   "cell_type": "code",
   "execution_count": 10,
   "id": "f259068a",
   "metadata": {},
   "outputs": [],
   "source": [
    "Data_of_Attack_Back_FTPWrite = pd.read_csv(r\"C:\\Users\\Pranav\\Downloads\\12. Capstone Case Study - Cyber Security Case Study\\Data_of_Attack_Back_FTPWrite.csv\")"
   ]
  },
  {
   "cell_type": "code",
   "execution_count": 11,
   "id": "a084a4db",
   "metadata": {},
   "outputs": [],
   "source": [
    "#The first row present as the feature names. So it could be convert as row and new feature names should be presented\n",
    "current_column_names = Data_of_Attack_Back_FTPWrite.columns.tolist()"
   ]
  },
  {
   "cell_type": "code",
   "execution_count": 12,
   "id": "d50bccac",
   "metadata": {},
   "outputs": [],
   "source": [
    "new_column_names = ['duration', ' protocol_type', ' service', ' flag', ' src_bytes',\n",
    "       ' dst_bytes', ' land', ' wrong_fragment', ' urgent', ' hot',\n",
    "       ' num_failed_logins', ' logged_in', ' num_compromised', ' root_shell',\n",
    "       ' su_attempted', ' num_root', ' num_file_creations', ' num_shells',\n",
    "       ' num_access_files', ' num_outbound_cmds', ' is_host_login',\n",
    "       ' is_guest_login', ' count', ' srv_count', ' serror_rate',\n",
    "       ' srv_error_rate', ' rerror_rate', ' srv_rerror_rate', ' same_srv_rate',\n",
    "       ' diff_srv_rate', ' srv_diff_host_rate', ' dst_host_count',\n",
    "       ' dst_host_srv_count', ' dst_host_same_srv_rate',\n",
    "       ' dst_host_diff_srv_rate', ' dst_host_same_src_port_rate',\n",
    "       ' dst_host_srv_diff_host_rate', ' dst_host_serror_rate',\n",
    "       ' dst_host_srv_serror_rate', ' dst_host_rerror_rate',\n",
    "       ' dst_host_srv_rerror_rate']"
   ]
  },
  {
   "cell_type": "code",
   "execution_count": 13,
   "id": "9c29493c",
   "metadata": {},
   "outputs": [],
   "source": [
    "Data_of_Attack_Back_FTPWrite.columns = new_column_names"
   ]
  },
  {
   "cell_type": "code",
   "execution_count": 14,
   "id": "67b8ac74",
   "metadata": {},
   "outputs": [],
   "source": [
    "Data_of_Attack_Back_FTPWrite.loc[-1] = current_column_names\n",
    "Data_of_Attack_Back_FTPWrite.index = Data_of_Attack_Back_FTPWrite.index + 1\n",
    "Data_of_Attack_Back_FTPWrite = Data_of_Attack_Back_FTPWrite.sort_index()"
   ]
  },
  {
   "cell_type": "code",
   "execution_count": 15,
   "id": "136fed04",
   "metadata": {},
   "outputs": [],
   "source": [
    "Data_of_Attack_Back_FTPWrite[new_column_names] = Data_of_Attack_Back_FTPWrite[new_column_names].apply(pd.to_numeric, errors='coerce')"
   ]
  },
  {
   "cell_type": "code",
   "execution_count": 16,
   "id": "58db12ae",
   "metadata": {},
   "outputs": [],
   "source": [
    "Data_of_Attack_Back_FTPWrite.reset_index(drop=True, inplace=True)"
   ]
  },
  {
   "cell_type": "code",
   "execution_count": 17,
   "id": "be4487c5",
   "metadata": {
    "scrolled": true
   },
   "outputs": [],
   "source": [
    "#Adding a new column Attack\n",
    "Data_of_Attack_Back_FTPWrite['Attack'] = 'FTPWrite'"
   ]
  },
  {
   "cell_type": "code",
   "execution_count": 18,
   "id": "8dda200b",
   "metadata": {},
   "outputs": [
    {
     "data": {
      "text/html": [
       "<div>\n",
       "<style scoped>\n",
       "    .dataframe tbody tr th:only-of-type {\n",
       "        vertical-align: middle;\n",
       "    }\n",
       "\n",
       "    .dataframe tbody tr th {\n",
       "        vertical-align: top;\n",
       "    }\n",
       "\n",
       "    .dataframe thead th {\n",
       "        text-align: right;\n",
       "    }\n",
       "</style>\n",
       "<table border=\"1\" class=\"dataframe\">\n",
       "  <thead>\n",
       "    <tr style=\"text-align: right;\">\n",
       "      <th></th>\n",
       "      <th>duration</th>\n",
       "      <th>protocol_type</th>\n",
       "      <th>service</th>\n",
       "      <th>flag</th>\n",
       "      <th>src_bytes</th>\n",
       "      <th>dst_bytes</th>\n",
       "      <th>land</th>\n",
       "      <th>wrong_fragment</th>\n",
       "      <th>urgent</th>\n",
       "      <th>hot</th>\n",
       "      <th>...</th>\n",
       "      <th>dst_host_srv_count</th>\n",
       "      <th>dst_host_same_srv_rate</th>\n",
       "      <th>dst_host_diff_srv_rate</th>\n",
       "      <th>dst_host_same_src_port_rate</th>\n",
       "      <th>dst_host_srv_diff_host_rate</th>\n",
       "      <th>dst_host_serror_rate</th>\n",
       "      <th>dst_host_srv_serror_rate</th>\n",
       "      <th>dst_host_rerror_rate</th>\n",
       "      <th>dst_host_srv_rerror_rate</th>\n",
       "      <th>Attack</th>\n",
       "    </tr>\n",
       "  </thead>\n",
       "  <tbody>\n",
       "    <tr>\n",
       "      <th>0</th>\n",
       "      <td>0.0026</td>\n",
       "      <td>0</td>\n",
       "      <td>0.07</td>\n",
       "      <td>0.3</td>\n",
       "      <td>0.00116</td>\n",
       "      <td>0.00451</td>\n",
       "      <td>0.4</td>\n",
       "      <td>0.5</td>\n",
       "      <td>0.6</td>\n",
       "      <td>0.2</td>\n",
       "      <td>...</td>\n",
       "      <td>NaN</td>\n",
       "      <td>NaN</td>\n",
       "      <td>0.21</td>\n",
       "      <td>NaN</td>\n",
       "      <td>0.220</td>\n",
       "      <td>0.23</td>\n",
       "      <td>0.24</td>\n",
       "      <td>0.25</td>\n",
       "      <td>0.26</td>\n",
       "      <td>FTPWrite</td>\n",
       "    </tr>\n",
       "    <tr>\n",
       "      <th>1</th>\n",
       "      <td>0.0134</td>\n",
       "      <td>0</td>\n",
       "      <td>0.34</td>\n",
       "      <td>0.0</td>\n",
       "      <td>0.00100</td>\n",
       "      <td>0.39445</td>\n",
       "      <td>0.0</td>\n",
       "      <td>0.0</td>\n",
       "      <td>0.2</td>\n",
       "      <td>0.0</td>\n",
       "      <td>...</td>\n",
       "      <td>0.001</td>\n",
       "      <td>0.05</td>\n",
       "      <td>0.10</td>\n",
       "      <td>0.05</td>\n",
       "      <td>0.000</td>\n",
       "      <td>0.00</td>\n",
       "      <td>0.00</td>\n",
       "      <td>0.00</td>\n",
       "      <td>0.00</td>\n",
       "      <td>FTPWrite</td>\n",
       "    </tr>\n",
       "    <tr>\n",
       "      <th>2</th>\n",
       "      <td>0.0000</td>\n",
       "      <td>0</td>\n",
       "      <td>0.14</td>\n",
       "      <td>0.0</td>\n",
       "      <td>0.00613</td>\n",
       "      <td>0.00000</td>\n",
       "      <td>0.0</td>\n",
       "      <td>0.0</td>\n",
       "      <td>0.0</td>\n",
       "      <td>0.0</td>\n",
       "      <td>...</td>\n",
       "      <td>0.084</td>\n",
       "      <td>0.10</td>\n",
       "      <td>0.00</td>\n",
       "      <td>0.10</td>\n",
       "      <td>0.002</td>\n",
       "      <td>0.00</td>\n",
       "      <td>0.00</td>\n",
       "      <td>0.00</td>\n",
       "      <td>0.00</td>\n",
       "      <td>FTPWrite</td>\n",
       "    </tr>\n",
       "    <tr>\n",
       "      <th>3</th>\n",
       "      <td>0.0000</td>\n",
       "      <td>0</td>\n",
       "      <td>0.14</td>\n",
       "      <td>0.0</td>\n",
       "      <td>0.00000</td>\n",
       "      <td>0.00005</td>\n",
       "      <td>0.0</td>\n",
       "      <td>0.0</td>\n",
       "      <td>0.0</td>\n",
       "      <td>0.0</td>\n",
       "      <td>...</td>\n",
       "      <td>0.085</td>\n",
       "      <td>0.10</td>\n",
       "      <td>0.00</td>\n",
       "      <td>0.10</td>\n",
       "      <td>0.002</td>\n",
       "      <td>0.00</td>\n",
       "      <td>0.00</td>\n",
       "      <td>0.00</td>\n",
       "      <td>0.00</td>\n",
       "      <td>FTPWrite</td>\n",
       "    </tr>\n",
       "    <tr>\n",
       "      <th>4</th>\n",
       "      <td>0.0032</td>\n",
       "      <td>0</td>\n",
       "      <td>0.07</td>\n",
       "      <td>0.0</td>\n",
       "      <td>0.00104</td>\n",
       "      <td>0.00449</td>\n",
       "      <td>0.0</td>\n",
       "      <td>0.0</td>\n",
       "      <td>0.0</td>\n",
       "      <td>0.2</td>\n",
       "      <td>...</td>\n",
       "      <td>0.001</td>\n",
       "      <td>0.10</td>\n",
       "      <td>0.00</td>\n",
       "      <td>0.10</td>\n",
       "      <td>0.000</td>\n",
       "      <td>0.00</td>\n",
       "      <td>0.00</td>\n",
       "      <td>0.00</td>\n",
       "      <td>0.00</td>\n",
       "      <td>FTPWrite</td>\n",
       "    </tr>\n",
       "    <tr>\n",
       "      <th>5</th>\n",
       "      <td>0.0067</td>\n",
       "      <td>0</td>\n",
       "      <td>0.34</td>\n",
       "      <td>0.0</td>\n",
       "      <td>0.00157</td>\n",
       "      <td>0.02703</td>\n",
       "      <td>0.0</td>\n",
       "      <td>0.0</td>\n",
       "      <td>0.1</td>\n",
       "      <td>0.0</td>\n",
       "      <td>...</td>\n",
       "      <td>0.001</td>\n",
       "      <td>0.05</td>\n",
       "      <td>0.10</td>\n",
       "      <td>0.05</td>\n",
       "      <td>0.000</td>\n",
       "      <td>0.00</td>\n",
       "      <td>0.00</td>\n",
       "      <td>0.00</td>\n",
       "      <td>0.00</td>\n",
       "      <td>FTPWrite</td>\n",
       "    </tr>\n",
       "    <tr>\n",
       "      <th>6</th>\n",
       "      <td>0.0000</td>\n",
       "      <td>0</td>\n",
       "      <td>0.14</td>\n",
       "      <td>0.0</td>\n",
       "      <td>0.00676</td>\n",
       "      <td>0.00000</td>\n",
       "      <td>0.0</td>\n",
       "      <td>0.0</td>\n",
       "      <td>0.0</td>\n",
       "      <td>0.0</td>\n",
       "      <td>...</td>\n",
       "      <td>0.004</td>\n",
       "      <td>0.10</td>\n",
       "      <td>0.00</td>\n",
       "      <td>0.10</td>\n",
       "      <td>0.050</td>\n",
       "      <td>0.00</td>\n",
       "      <td>0.00</td>\n",
       "      <td>0.00</td>\n",
       "      <td>0.00</td>\n",
       "      <td>FTPWrite</td>\n",
       "    </tr>\n",
       "    <tr>\n",
       "      <th>7</th>\n",
       "      <td>0.0000</td>\n",
       "      <td>0</td>\n",
       "      <td>0.14</td>\n",
       "      <td>0.0</td>\n",
       "      <td>0.00000</td>\n",
       "      <td>0.00005</td>\n",
       "      <td>0.0</td>\n",
       "      <td>0.0</td>\n",
       "      <td>0.0</td>\n",
       "      <td>0.0</td>\n",
       "      <td>...</td>\n",
       "      <td>0.005</td>\n",
       "      <td>0.10</td>\n",
       "      <td>0.00</td>\n",
       "      <td>0.10</td>\n",
       "      <td>0.040</td>\n",
       "      <td>0.00</td>\n",
       "      <td>0.00</td>\n",
       "      <td>0.00</td>\n",
       "      <td>0.00</td>\n",
       "      <td>FTPWrite</td>\n",
       "    </tr>\n",
       "  </tbody>\n",
       "</table>\n",
       "<p>8 rows × 42 columns</p>\n",
       "</div>"
      ],
      "text/plain": [
       "   duration   protocol_type   service   flag   src_bytes   dst_bytes   land  \\\n",
       "0    0.0026               0      0.07    0.3     0.00116     0.00451    0.4   \n",
       "1    0.0134               0      0.34    0.0     0.00100     0.39445    0.0   \n",
       "2    0.0000               0      0.14    0.0     0.00613     0.00000    0.0   \n",
       "3    0.0000               0      0.14    0.0     0.00000     0.00005    0.0   \n",
       "4    0.0032               0      0.07    0.0     0.00104     0.00449    0.0   \n",
       "5    0.0067               0      0.34    0.0     0.00157     0.02703    0.0   \n",
       "6    0.0000               0      0.14    0.0     0.00676     0.00000    0.0   \n",
       "7    0.0000               0      0.14    0.0     0.00000     0.00005    0.0   \n",
       "\n",
       "    wrong_fragment   urgent   hot  ...   dst_host_srv_count  \\\n",
       "0              0.5      0.6   0.2  ...                  NaN   \n",
       "1              0.0      0.2   0.0  ...                0.001   \n",
       "2              0.0      0.0   0.0  ...                0.084   \n",
       "3              0.0      0.0   0.0  ...                0.085   \n",
       "4              0.0      0.0   0.2  ...                0.001   \n",
       "5              0.0      0.1   0.0  ...                0.001   \n",
       "6              0.0      0.0   0.0  ...                0.004   \n",
       "7              0.0      0.0   0.0  ...                0.005   \n",
       "\n",
       "    dst_host_same_srv_rate   dst_host_diff_srv_rate  \\\n",
       "0                      NaN                     0.21   \n",
       "1                     0.05                     0.10   \n",
       "2                     0.10                     0.00   \n",
       "3                     0.10                     0.00   \n",
       "4                     0.10                     0.00   \n",
       "5                     0.05                     0.10   \n",
       "6                     0.10                     0.00   \n",
       "7                     0.10                     0.00   \n",
       "\n",
       "    dst_host_same_src_port_rate   dst_host_srv_diff_host_rate  \\\n",
       "0                           NaN                         0.220   \n",
       "1                          0.05                         0.000   \n",
       "2                          0.10                         0.002   \n",
       "3                          0.10                         0.002   \n",
       "4                          0.10                         0.000   \n",
       "5                          0.05                         0.000   \n",
       "6                          0.10                         0.050   \n",
       "7                          0.10                         0.040   \n",
       "\n",
       "    dst_host_serror_rate   dst_host_srv_serror_rate   dst_host_rerror_rate  \\\n",
       "0                   0.23                       0.24                   0.25   \n",
       "1                   0.00                       0.00                   0.00   \n",
       "2                   0.00                       0.00                   0.00   \n",
       "3                   0.00                       0.00                   0.00   \n",
       "4                   0.00                       0.00                   0.00   \n",
       "5                   0.00                       0.00                   0.00   \n",
       "6                   0.00                       0.00                   0.00   \n",
       "7                   0.00                       0.00                   0.00   \n",
       "\n",
       "    dst_host_srv_rerror_rate    Attack  \n",
       "0                       0.26  FTPWrite  \n",
       "1                       0.00  FTPWrite  \n",
       "2                       0.00  FTPWrite  \n",
       "3                       0.00  FTPWrite  \n",
       "4                       0.00  FTPWrite  \n",
       "5                       0.00  FTPWrite  \n",
       "6                       0.00  FTPWrite  \n",
       "7                       0.00  FTPWrite  \n",
       "\n",
       "[8 rows x 42 columns]"
      ]
     },
     "execution_count": 18,
     "metadata": {},
     "output_type": "execute_result"
    }
   ],
   "source": [
    "#feature names are changed\n",
    "Data_of_Attack_Back_FTPWrite"
   ]
  },
  {
   "cell_type": "code",
   "execution_count": 19,
   "id": "9c3b641e",
   "metadata": {},
   "outputs": [],
   "source": [
    "Data_of_Attack_Back_GuessPassword = pd.read_csv(r\"C:\\Users\\Pranav\\Downloads\\12. Capstone Case Study - Cyber Security Case Study\\Data_of_Attack_Back_GuessPassword.csv\")"
   ]
  },
  {
   "cell_type": "code",
   "execution_count": 20,
   "id": "74dbce5b",
   "metadata": {
    "scrolled": true
   },
   "outputs": [],
   "source": [
    "#Adding a new column Attack\n",
    "Data_of_Attack_Back_GuessPassword['Attack'] = 'GuessPassword'"
   ]
  },
  {
   "cell_type": "code",
   "execution_count": 21,
   "id": "7f0e5289",
   "metadata": {},
   "outputs": [],
   "source": [
    "Data_of_Attack_Back_Neptune = pd.read_csv(r\"C:\\Users\\Pranav\\Downloads\\12. Capstone Case Study - Cyber Security Case Study\\Data_of_Attack_Back_Neptune.csv\")"
   ]
  },
  {
   "cell_type": "code",
   "execution_count": 22,
   "id": "28fbafeb",
   "metadata": {
    "scrolled": true
   },
   "outputs": [],
   "source": [
    "#Adding a new column Attack\n",
    "Data_of_Attack_Back_Neptune['Attack'] = 'Neptune'"
   ]
  },
  {
   "cell_type": "code",
   "execution_count": 23,
   "id": "0911d3b0",
   "metadata": {},
   "outputs": [],
   "source": [
    "Data_of_Attack_Back_NMap = pd.read_csv(r\"C:\\Users\\Pranav\\Downloads\\12. Capstone Case Study - Cyber Security Case Study\\Data_of_Attack_Back_NMap.csv\")"
   ]
  },
  {
   "cell_type": "code",
   "execution_count": 24,
   "id": "b5441924",
   "metadata": {},
   "outputs": [],
   "source": [
    "#Adding a new column Attack\n",
    "Data_of_Attack_Back_NMap['Attack'] = 'NMap'"
   ]
  },
  {
   "cell_type": "code",
   "execution_count": 25,
   "id": "dec4bde3",
   "metadata": {},
   "outputs": [],
   "source": [
    "Data_of_Attack_Back_Normal = pd.read_csv(r\"C:\\Users\\Pranav\\Downloads\\12. Capstone Case Study - Cyber Security Case Study\\Data_of_Attack_Back_Normal.csv\")"
   ]
  },
  {
   "cell_type": "code",
   "execution_count": 26,
   "id": "17fd544e",
   "metadata": {
    "scrolled": true
   },
   "outputs": [],
   "source": [
    "#Adding a new column Attack\n",
    "Data_of_Attack_Back_Normal['Attack'] = 'Normal'"
   ]
  },
  {
   "cell_type": "code",
   "execution_count": 27,
   "id": "d5272f6c",
   "metadata": {},
   "outputs": [],
   "source": [
    "Data_of_Attack_Back_PortSweep = pd.read_csv(r\"C:\\Users\\Pranav\\Downloads\\12. Capstone Case Study - Cyber Security Case Study\\Data_of_Attack_Back_PortSweep.csv\")"
   ]
  },
  {
   "cell_type": "code",
   "execution_count": 28,
   "id": "af76b89a",
   "metadata": {},
   "outputs": [],
   "source": [
    "#Adding a new column Attack\n",
    "Data_of_Attack_Back_PortSweep['Attack'] = 'PortSweep'"
   ]
  },
  {
   "cell_type": "code",
   "execution_count": 29,
   "id": "ae419de0",
   "metadata": {},
   "outputs": [],
   "source": [
    "Data_of_Attack_Back_RootKit = pd.read_csv(r\"C:\\Users\\Pranav\\Downloads\\12. Capstone Case Study - Cyber Security Case Study\\Data_of_Attack_Back_RootKit.csv\")"
   ]
  },
  {
   "cell_type": "code",
   "execution_count": 30,
   "id": "a76c8fac",
   "metadata": {
    "scrolled": true
   },
   "outputs": [],
   "source": [
    "#Adding a new column Attack\n",
    "Data_of_Attack_Back_RootKit['Attack'] = 'RootKit'"
   ]
  },
  {
   "cell_type": "code",
   "execution_count": 31,
   "id": "daeb4234",
   "metadata": {},
   "outputs": [],
   "source": [
    "Data_of_Attack_Back_Satan = pd.read_csv(r\"C:\\Users\\Pranav\\Downloads\\12. Capstone Case Study - Cyber Security Case Study\\Data_of_Attack_Back_Satan.csv\")"
   ]
  },
  {
   "cell_type": "code",
   "execution_count": 32,
   "id": "0ae3b3df",
   "metadata": {},
   "outputs": [],
   "source": [
    "#Adding a new column Attack\n",
    "Data_of_Attack_Back_Satan['Attack'] = 'Satan'"
   ]
  },
  {
   "cell_type": "code",
   "execution_count": 33,
   "id": "9f2c35b2",
   "metadata": {},
   "outputs": [],
   "source": [
    "Data_of_Attack_Back_Smurf = pd.read_csv(r\"C:\\Users\\Pranav\\Downloads\\12. Capstone Case Study - Cyber Security Case Study\\Data_of_Attack_Back_Smurf.csv\")"
   ]
  },
  {
   "cell_type": "code",
   "execution_count": 34,
   "id": "39965bdb",
   "metadata": {
    "scrolled": false
   },
   "outputs": [],
   "source": [
    "#Adding a new column Attack\n",
    "Data_of_Attack_Back_Smurf['Attack'] = 'Smurf'"
   ]
  },
  {
   "cell_type": "code",
   "execution_count": 35,
   "id": "2074f29d",
   "metadata": {},
   "outputs": [],
   "source": [
    "#Appending all the files together\n",
    "df = pd.concat([Data_of_Attack_Back,Data_of_Attack_Back_BufferOverflow,Data_of_Attack_Back_FTPWrite,Data_of_Attack_Back_GuessPassword,\n",
    "               Data_of_Attack_Back_Neptune,Data_of_Attack_Back_NMap,Data_of_Attack_Back_Normal,Data_of_Attack_Back_PortSweep,Data_of_Attack_Back_RootKit,\n",
    "               Data_of_Attack_Back_Satan,Data_of_Attack_Back_Smurf],ignore_index=True)"
   ]
  },
  {
   "cell_type": "code",
   "execution_count": 36,
   "id": "83ea8861",
   "metadata": {
    "scrolled": true
   },
   "outputs": [
    {
     "name": "stdout",
     "output_type": "stream",
     "text": [
      "<class 'pandas.core.frame.DataFrame'>\n",
      "RangeIndex: 817551 entries, 0 to 817550\n",
      "Data columns (total 42 columns):\n",
      " #   Column                        Non-Null Count   Dtype  \n",
      "---  ------                        --------------   -----  \n",
      " 0   duration                      817551 non-null  float64\n",
      " 1    protocol_type                817551 non-null  float64\n",
      " 2    service                      817551 non-null  float64\n",
      " 3    flag                         817551 non-null  float64\n",
      " 4    src_bytes                    817551 non-null  float64\n",
      " 5    dst_bytes                    817551 non-null  float64\n",
      " 6    land                         817551 non-null  float64\n",
      " 7    wrong_fragment               817551 non-null  float64\n",
      " 8    urgent                       817551 non-null  float64\n",
      " 9    hot                          817551 non-null  float64\n",
      " 10   num_failed_logins            817551 non-null  float64\n",
      " 11   logged_in                    817551 non-null  float64\n",
      " 12   num_compromised              817551 non-null  float64\n",
      " 13   root_shell                   817551 non-null  float64\n",
      " 14   su_attempted                 817551 non-null  float64\n",
      " 15   num_root                     817551 non-null  float64\n",
      " 16   num_file_creations           817550 non-null  float64\n",
      " 17   num_shells                   817551 non-null  float64\n",
      " 18   num_access_files             817550 non-null  float64\n",
      " 19   num_outbound_cmds            817551 non-null  float64\n",
      " 20   is_host_login                817551 non-null  float64\n",
      " 21   is_guest_login               817550 non-null  float64\n",
      " 22   count                        817551 non-null  float64\n",
      " 23   srv_count                    817550 non-null  float64\n",
      " 24   serror_rate                  817551 non-null  float64\n",
      " 25   srv_error_rate               817551 non-null  float64\n",
      " 26   rerror_rate                  817551 non-null  float64\n",
      " 27   srv_rerror_rate              817551 non-null  float64\n",
      " 28   same_srv_rate                817550 non-null  float64\n",
      " 29   diff_srv_rate                817551 non-null  float64\n",
      " 30   srv_diff_host_rate           817551 non-null  float64\n",
      " 31   dst_host_count               817550 non-null  float64\n",
      " 32   dst_host_srv_count           817550 non-null  float64\n",
      " 33   dst_host_same_srv_rate       817550 non-null  float64\n",
      " 34   dst_host_diff_srv_rate       817551 non-null  float64\n",
      " 35   dst_host_same_src_port_rate  817550 non-null  float64\n",
      " 36   dst_host_srv_diff_host_rate  817551 non-null  float64\n",
      " 37   dst_host_serror_rate         817551 non-null  float64\n",
      " 38   dst_host_srv_serror_rate     817551 non-null  float64\n",
      " 39   dst_host_rerror_rate         817551 non-null  float64\n",
      " 40   dst_host_srv_rerror_rate     817551 non-null  float64\n",
      " 41  Attack                        817551 non-null  object \n",
      "dtypes: float64(41), object(1)\n",
      "memory usage: 262.0+ MB\n"
     ]
    }
   ],
   "source": [
    "df.info()"
   ]
  },
  {
   "cell_type": "code",
   "execution_count": 37,
   "id": "68579e8e",
   "metadata": {},
   "outputs": [],
   "source": [
    "#Creating a copy of df\n",
    "new_df = df.copy()"
   ]
  },
  {
   "cell_type": "markdown",
   "id": "f4b5ccfe",
   "metadata": {},
   "source": [
    "# Binomial Classification"
   ]
  },
  {
   "cell_type": "code",
   "execution_count": 38,
   "id": "77786c93",
   "metadata": {},
   "outputs": [],
   "source": [
    "#All categories in the feature were consolidated into a single category labeled 'Attack,' while the category named 'Normal' remained unchanged.\n",
    "new_df['Attack'] = np.where(df['Attack'] == 'Normal','Normal','Attack')"
   ]
  },
  {
   "cell_type": "code",
   "execution_count": 39,
   "id": "8a448807",
   "metadata": {
    "scrolled": true
   },
   "outputs": [
    {
     "data": {
      "text/plain": [
       "Normal    576710\n",
       "Attack    240841\n",
       "Name: Attack, dtype: int64"
      ]
     },
     "execution_count": 39,
     "metadata": {},
     "output_type": "execute_result"
    }
   ],
   "source": [
    "new_df['Attack'].value_counts()"
   ]
  },
  {
   "cell_type": "code",
   "execution_count": 40,
   "id": "0da9486d",
   "metadata": {},
   "outputs": [
    {
     "data": {
      "text/plain": [
       "duration                        0\n",
       " protocol_type                  0\n",
       " service                        0\n",
       " flag                           0\n",
       " src_bytes                      0\n",
       " dst_bytes                      0\n",
       " land                           0\n",
       " wrong_fragment                 0\n",
       " urgent                         0\n",
       " hot                            0\n",
       " num_failed_logins              0\n",
       " logged_in                      0\n",
       " num_compromised                0\n",
       " root_shell                     0\n",
       " su_attempted                   0\n",
       " num_root                       0\n",
       " num_file_creations             1\n",
       " num_shells                     0\n",
       " num_access_files               1\n",
       " num_outbound_cmds              0\n",
       " is_host_login                  0\n",
       " is_guest_login                 1\n",
       " count                          0\n",
       " srv_count                      1\n",
       " serror_rate                    0\n",
       " srv_error_rate                 0\n",
       " rerror_rate                    0\n",
       " srv_rerror_rate                0\n",
       " same_srv_rate                  1\n",
       " diff_srv_rate                  0\n",
       " srv_diff_host_rate             0\n",
       " dst_host_count                 1\n",
       " dst_host_srv_count             1\n",
       " dst_host_same_srv_rate         1\n",
       " dst_host_diff_srv_rate         0\n",
       " dst_host_same_src_port_rate    1\n",
       " dst_host_srv_diff_host_rate    0\n",
       " dst_host_serror_rate           0\n",
       " dst_host_srv_serror_rate       0\n",
       " dst_host_rerror_rate           0\n",
       " dst_host_srv_rerror_rate       0\n",
       "Attack                          0\n",
       "dtype: int64"
      ]
     },
     "execution_count": 40,
     "metadata": {},
     "output_type": "execute_result"
    }
   ],
   "source": [
    "#checking for null values\n",
    "new_df.isna().sum()"
   ]
  },
  {
   "cell_type": "code",
   "execution_count": 41,
   "id": "7f762695",
   "metadata": {
    "scrolled": true
   },
   "outputs": [],
   "source": [
    "#dropping all the null values\n",
    "new_df = new_df.dropna(axis=0)"
   ]
  },
  {
   "cell_type": "code",
   "execution_count": 42,
   "id": "0e45bfbf",
   "metadata": {},
   "outputs": [
    {
     "name": "stdout",
     "output_type": "stream",
     "text": [
      "<class 'pandas.core.frame.DataFrame'>\n",
      "Int64Index: 817550 entries, 0 to 817550\n",
      "Data columns (total 42 columns):\n",
      " #   Column                        Non-Null Count   Dtype  \n",
      "---  ------                        --------------   -----  \n",
      " 0   duration                      817550 non-null  float64\n",
      " 1    protocol_type                817550 non-null  float64\n",
      " 2    service                      817550 non-null  float64\n",
      " 3    flag                         817550 non-null  float64\n",
      " 4    src_bytes                    817550 non-null  float64\n",
      " 5    dst_bytes                    817550 non-null  float64\n",
      " 6    land                         817550 non-null  float64\n",
      " 7    wrong_fragment               817550 non-null  float64\n",
      " 8    urgent                       817550 non-null  float64\n",
      " 9    hot                          817550 non-null  float64\n",
      " 10   num_failed_logins            817550 non-null  float64\n",
      " 11   logged_in                    817550 non-null  float64\n",
      " 12   num_compromised              817550 non-null  float64\n",
      " 13   root_shell                   817550 non-null  float64\n",
      " 14   su_attempted                 817550 non-null  float64\n",
      " 15   num_root                     817550 non-null  float64\n",
      " 16   num_file_creations           817550 non-null  float64\n",
      " 17   num_shells                   817550 non-null  float64\n",
      " 18   num_access_files             817550 non-null  float64\n",
      " 19   num_outbound_cmds            817550 non-null  float64\n",
      " 20   is_host_login                817550 non-null  float64\n",
      " 21   is_guest_login               817550 non-null  float64\n",
      " 22   count                        817550 non-null  float64\n",
      " 23   srv_count                    817550 non-null  float64\n",
      " 24   serror_rate                  817550 non-null  float64\n",
      " 25   srv_error_rate               817550 non-null  float64\n",
      " 26   rerror_rate                  817550 non-null  float64\n",
      " 27   srv_rerror_rate              817550 non-null  float64\n",
      " 28   same_srv_rate                817550 non-null  float64\n",
      " 29   diff_srv_rate                817550 non-null  float64\n",
      " 30   srv_diff_host_rate           817550 non-null  float64\n",
      " 31   dst_host_count               817550 non-null  float64\n",
      " 32   dst_host_srv_count           817550 non-null  float64\n",
      " 33   dst_host_same_srv_rate       817550 non-null  float64\n",
      " 34   dst_host_diff_srv_rate       817550 non-null  float64\n",
      " 35   dst_host_same_src_port_rate  817550 non-null  float64\n",
      " 36   dst_host_srv_diff_host_rate  817550 non-null  float64\n",
      " 37   dst_host_serror_rate         817550 non-null  float64\n",
      " 38   dst_host_srv_serror_rate     817550 non-null  float64\n",
      " 39   dst_host_rerror_rate         817550 non-null  float64\n",
      " 40   dst_host_srv_rerror_rate     817550 non-null  float64\n",
      " 41  Attack                        817550 non-null  object \n",
      "dtypes: float64(41), object(1)\n",
      "memory usage: 268.2+ MB\n"
     ]
    }
   ],
   "source": [
    "new_df.info()"
   ]
  },
  {
   "cell_type": "code",
   "execution_count": 43,
   "id": "18e3bf5f",
   "metadata": {},
   "outputs": [],
   "source": [
    "#The dataset was partitioned into features and targets\n",
    "x = new_df.drop('Attack',axis=1)\n",
    "y = new_df['Attack']"
   ]
  },
  {
   "cell_type": "code",
   "execution_count": 44,
   "id": "9629da32",
   "metadata": {},
   "outputs": [],
   "source": [
    "# Encoding the target variables\n",
    "y = y.replace({'Normal' : 0,'Attack' : 1 })"
   ]
  },
  {
   "cell_type": "code",
   "execution_count": 45,
   "id": "c3f73300",
   "metadata": {
    "scrolled": true
   },
   "outputs": [
    {
     "data": {
      "text/plain": [
       "array([576710, 240840], dtype=int64)"
      ]
     },
     "execution_count": 45,
     "metadata": {},
     "output_type": "execute_result"
    }
   ],
   "source": [
    "y.value_counts().values"
   ]
  },
  {
   "cell_type": "code",
   "execution_count": 46,
   "id": "607f1bd1",
   "metadata": {
    "scrolled": true
   },
   "outputs": [
    {
     "data": {
      "image/png": "[encoded data removed]",
      "text/plain": [
       "<Figure size 640x480 with 1 Axes>"
      ]
     },
     "metadata": {},
     "output_type": "display_data"
    }
   ],
   "source": [
    "#barchart\n",
    "plt.bar( y.value_counts().index, y.value_counts().values, color='skyblue')\n",
    "plt.xlabel('y')\n",
    "plt.ylabel('counts')\n",
    "plt.show()"
   ]
  },
  {
   "cell_type": "markdown",
   "id": "a3280a9c",
   "metadata": {},
   "source": [
    "The bar chart reveals an imbalance in the target column, indicating a disparity in the distribution of data across different classes. Resampling techniques may be necessary to address this imbalance."
   ]
  },
  {
   "cell_type": "code",
   "execution_count": 53,
   "id": "a3f78bb0",
   "metadata": {},
   "outputs": [],
   "source": [
    "from sklearn.tree import DecisionTreeClassifier\n",
    "from sklearn.linear_model import LogisticRegression\n",
    "from sklearn.neighbors import KNeighborsClassifier\n",
    "from sklearn.ensemble import RandomForestClassifier\n",
    "from sklearn.model_selection import cross_val_score"
   ]
  },
  {
   "cell_type": "code",
   "execution_count": 54,
   "id": "2466ea62",
   "metadata": {},
   "outputs": [],
   "source": [
    "dt = DecisionTreeClassifier()\n",
    "rf = RandomForestClassifier()\n",
    "knn = KNeighborsClassifier()\n",
    "lr = LogisticRegression()\n"
   ]
  },
  {
   "cell_type": "code",
   "execution_count": 55,
   "id": "1ec3d6fd",
   "metadata": {},
   "outputs": [
    {
     "ename": "KeyboardInterrupt",
     "evalue": "",
     "output_type": "error",
     "traceback": [
      "\u001b[1;31m---------------------------------------------------------------------------\u001b[0m",
      "\u001b[1;31mKeyboardInterrupt\u001b[0m                         Traceback (most recent call last)",
      "\u001b[1;32m~\\AppData\\Local\\Temp\\ipykernel_14244\\1935317433.py\u001b[0m in \u001b[0;36m<module>\u001b[1;34m\u001b[0m\n\u001b[0;32m      1\u001b[0m \u001b[0mcross_val_score\u001b[0m\u001b[1;33m(\u001b[0m\u001b[0mdt\u001b[0m\u001b[1;33m,\u001b[0m\u001b[0mx\u001b[0m\u001b[1;33m,\u001b[0m\u001b[0my\u001b[0m\u001b[1;33m,\u001b[0m\u001b[0mcv\u001b[0m\u001b[1;33m=\u001b[0m\u001b[1;36m4\u001b[0m\u001b[1;33m)\u001b[0m\u001b[1;33m.\u001b[0m\u001b[0mmean\u001b[0m\u001b[1;33m(\u001b[0m\u001b[1;33m)\u001b[0m\u001b[1;33m\u001b[0m\u001b[1;33m\u001b[0m\u001b[0m\n\u001b[1;32m----> 2\u001b[1;33m \u001b[0mcross_val_score\u001b[0m\u001b[1;33m(\u001b[0m\u001b[0mknn\u001b[0m\u001b[1;33m,\u001b[0m\u001b[0mx\u001b[0m\u001b[1;33m,\u001b[0m\u001b[0my\u001b[0m\u001b[1;33m,\u001b[0m\u001b[0mcv\u001b[0m\u001b[1;33m=\u001b[0m\u001b[1;36m4\u001b[0m\u001b[1;33m)\u001b[0m\u001b[1;33m.\u001b[0m\u001b[0mmean\u001b[0m\u001b[1;33m(\u001b[0m\u001b[1;33m)\u001b[0m\u001b[1;33m\u001b[0m\u001b[1;33m\u001b[0m\u001b[0m\n\u001b[0m",
      "\u001b[1;32m~\\Downloads\\anacondas\\lib\\site-packages\\sklearn\\model_selection\\_validation.py\u001b[0m in \u001b[0;36mcross_val_score\u001b[1;34m(estimator, X, y, groups, scoring, cv, n_jobs, verbose, fit_params, pre_dispatch, error_score)\u001b[0m\n\u001b[0;32m    507\u001b[0m     \u001b[0mscorer\u001b[0m \u001b[1;33m=\u001b[0m \u001b[0mcheck_scoring\u001b[0m\u001b[1;33m(\u001b[0m\u001b[0mestimator\u001b[0m\u001b[1;33m,\u001b[0m \u001b[0mscoring\u001b[0m\u001b[1;33m=\u001b[0m\u001b[0mscoring\u001b[0m\u001b[1;33m)\u001b[0m\u001b[1;33m\u001b[0m\u001b[1;33m\u001b[0m\u001b[0m\n\u001b[0;32m    508\u001b[0m \u001b[1;33m\u001b[0m\u001b[0m\n\u001b[1;32m--> 509\u001b[1;33m     cv_results = cross_validate(\n\u001b[0m\u001b[0;32m    510\u001b[0m         \u001b[0mestimator\u001b[0m\u001b[1;33m=\u001b[0m\u001b[0mestimator\u001b[0m\u001b[1;33m,\u001b[0m\u001b[1;33m\u001b[0m\u001b[1;33m\u001b[0m\u001b[0m\n\u001b[0;32m    511\u001b[0m         \u001b[0mX\u001b[0m\u001b[1;33m=\u001b[0m\u001b[0mX\u001b[0m\u001b[1;33m,\u001b[0m\u001b[1;33m\u001b[0m\u001b[1;33m\u001b[0m\u001b[0m\n",
      "\u001b[1;32m~\\Downloads\\anacondas\\lib\\site-packages\\sklearn\\model_selection\\_validation.py\u001b[0m in \u001b[0;36mcross_validate\u001b[1;34m(estimator, X, y, groups, scoring, cv, n_jobs, verbose, fit_params, pre_dispatch, return_train_score, return_estimator, error_score)\u001b[0m\n\u001b[0;32m    265\u001b[0m     \u001b[1;31m# independent, and that it is pickle-able.\u001b[0m\u001b[1;33m\u001b[0m\u001b[1;33m\u001b[0m\u001b[0m\n\u001b[0;32m    266\u001b[0m     \u001b[0mparallel\u001b[0m \u001b[1;33m=\u001b[0m \u001b[0mParallel\u001b[0m\u001b[1;33m(\u001b[0m\u001b[0mn_jobs\u001b[0m\u001b[1;33m=\u001b[0m\u001b[0mn_jobs\u001b[0m\u001b[1;33m,\u001b[0m \u001b[0mverbose\u001b[0m\u001b[1;33m=\u001b[0m\u001b[0mverbose\u001b[0m\u001b[1;33m,\u001b[0m \u001b[0mpre_dispatch\u001b[0m\u001b[1;33m=\u001b[0m\u001b[0mpre_dispatch\u001b[0m\u001b[1;33m)\u001b[0m\u001b[1;33m\u001b[0m\u001b[1;33m\u001b[0m\u001b[0m\n\u001b[1;32m--> 267\u001b[1;33m     results = parallel(\n\u001b[0m\u001b[0;32m    268\u001b[0m         delayed(_fit_and_score)(\n\u001b[0;32m    269\u001b[0m             \u001b[0mclone\u001b[0m\u001b[1;33m(\u001b[0m\u001b[0mestimator\u001b[0m\u001b[1;33m)\u001b[0m\u001b[1;33m,\u001b[0m\u001b[1;33m\u001b[0m\u001b[1;33m\u001b[0m\u001b[0m\n",
      "\u001b[1;32m~\\Downloads\\anacondas\\lib\\site-packages\\joblib\\parallel.py\u001b[0m in \u001b[0;36m__call__\u001b[1;34m(self, iterable)\u001b[0m\n\u001b[0;32m   1861\u001b[0m             \u001b[0moutput\u001b[0m \u001b[1;33m=\u001b[0m \u001b[0mself\u001b[0m\u001b[1;33m.\u001b[0m\u001b[0m_get_sequential_output\u001b[0m\u001b[1;33m(\u001b[0m\u001b[0miterable\u001b[0m\u001b[1;33m)\u001b[0m\u001b[1;33m\u001b[0m\u001b[1;33m\u001b[0m\u001b[0m\n\u001b[0;32m   1862\u001b[0m             \u001b[0mnext\u001b[0m\u001b[1;33m(\u001b[0m\u001b[0moutput\u001b[0m\u001b[1;33m)\u001b[0m\u001b[1;33m\u001b[0m\u001b[1;33m\u001b[0m\u001b[0m\n\u001b[1;32m-> 1863\u001b[1;33m             \u001b[1;32mreturn\u001b[0m \u001b[0moutput\u001b[0m \u001b[1;32mif\u001b[0m \u001b[0mself\u001b[0m\u001b[1;33m.\u001b[0m\u001b[0mreturn_generator\u001b[0m \u001b[1;32melse\u001b[0m \u001b[0mlist\u001b[0m\u001b[1;33m(\u001b[0m\u001b[0moutput\u001b[0m\u001b[1;33m)\u001b[0m\u001b[1;33m\u001b[0m\u001b[1;33m\u001b[0m\u001b[0m\n\u001b[0m\u001b[0;32m   1864\u001b[0m \u001b[1;33m\u001b[0m\u001b[0m\n\u001b[0;32m   1865\u001b[0m         \u001b[1;31m# Let's create an ID that uniquely identifies the current call. If the\u001b[0m\u001b[1;33m\u001b[0m\u001b[1;33m\u001b[0m\u001b[0m\n",
      "\u001b[1;32m~\\Downloads\\anacondas\\lib\\site-packages\\joblib\\parallel.py\u001b[0m in \u001b[0;36m_get_sequential_output\u001b[1;34m(self, iterable)\u001b[0m\n\u001b[0;32m   1790\u001b[0m                 \u001b[0mself\u001b[0m\u001b[1;33m.\u001b[0m\u001b[0mn_dispatched_batches\u001b[0m \u001b[1;33m+=\u001b[0m \u001b[1;36m1\u001b[0m\u001b[1;33m\u001b[0m\u001b[1;33m\u001b[0m\u001b[0m\n\u001b[0;32m   1791\u001b[0m                 \u001b[0mself\u001b[0m\u001b[1;33m.\u001b[0m\u001b[0mn_dispatched_tasks\u001b[0m \u001b[1;33m+=\u001b[0m \u001b[1;36m1\u001b[0m\u001b[1;33m\u001b[0m\u001b[1;33m\u001b[0m\u001b[0m\n\u001b[1;32m-> 1792\u001b[1;33m                 \u001b[0mres\u001b[0m \u001b[1;33m=\u001b[0m \u001b[0mfunc\u001b[0m\u001b[1;33m(\u001b[0m\u001b[1;33m*\u001b[0m\u001b[0margs\u001b[0m\u001b[1;33m,\u001b[0m \u001b[1;33m**\u001b[0m\u001b[0mkwargs\u001b[0m\u001b[1;33m)\u001b[0m\u001b[1;33m\u001b[0m\u001b[1;33m\u001b[0m\u001b[0m\n\u001b[0m\u001b[0;32m   1793\u001b[0m                 \u001b[0mself\u001b[0m\u001b[1;33m.\u001b[0m\u001b[0mn_completed_tasks\u001b[0m \u001b[1;33m+=\u001b[0m \u001b[1;36m1\u001b[0m\u001b[1;33m\u001b[0m\u001b[1;33m\u001b[0m\u001b[0m\n\u001b[0;32m   1794\u001b[0m                 \u001b[0mself\u001b[0m\u001b[1;33m.\u001b[0m\u001b[0mprint_progress\u001b[0m\u001b[1;33m(\u001b[0m\u001b[1;33m)\u001b[0m\u001b[1;33m\u001b[0m\u001b[1;33m\u001b[0m\u001b[0m\n",
      "\u001b[1;32m~\\Downloads\\anacondas\\lib\\site-packages\\sklearn\\utils\\fixes.py\u001b[0m in \u001b[0;36m__call__\u001b[1;34m(self, *args, **kwargs)\u001b[0m\n\u001b[0;32m    214\u001b[0m     \u001b[1;32mdef\u001b[0m \u001b[0m__call__\u001b[0m\u001b[1;33m(\u001b[0m\u001b[0mself\u001b[0m\u001b[1;33m,\u001b[0m \u001b[1;33m*\u001b[0m\u001b[0margs\u001b[0m\u001b[1;33m,\u001b[0m \u001b[1;33m**\u001b[0m\u001b[0mkwargs\u001b[0m\u001b[1;33m)\u001b[0m\u001b[1;33m:\u001b[0m\u001b[1;33m\u001b[0m\u001b[1;33m\u001b[0m\u001b[0m\n\u001b[0;32m    215\u001b[0m         \u001b[1;32mwith\u001b[0m \u001b[0mconfig_context\u001b[0m\u001b[1;33m(\u001b[0m\u001b[1;33m**\u001b[0m\u001b[0mself\u001b[0m\u001b[1;33m.\u001b[0m\u001b[0mconfig\u001b[0m\u001b[1;33m)\u001b[0m\u001b[1;33m:\u001b[0m\u001b[1;33m\u001b[0m\u001b[1;33m\u001b[0m\u001b[0m\n\u001b[1;32m--> 216\u001b[1;33m             \u001b[1;32mreturn\u001b[0m \u001b[0mself\u001b[0m\u001b[1;33m.\u001b[0m\u001b[0mfunction\u001b[0m\u001b[1;33m(\u001b[0m\u001b[1;33m*\u001b[0m\u001b[0margs\u001b[0m\u001b[1;33m,\u001b[0m \u001b[1;33m**\u001b[0m\u001b[0mkwargs\u001b[0m\u001b[1;33m)\u001b[0m\u001b[1;33m\u001b[0m\u001b[1;33m\u001b[0m\u001b[0m\n\u001b[0m\u001b[0;32m    217\u001b[0m \u001b[1;33m\u001b[0m\u001b[0m\n\u001b[0;32m    218\u001b[0m \u001b[1;33m\u001b[0m\u001b[0m\n",
      "\u001b[1;32m~\\Downloads\\anacondas\\lib\\site-packages\\sklearn\\model_selection\\_validation.py\u001b[0m in \u001b[0;36m_fit_and_score\u001b[1;34m(estimator, X, y, scorer, train, test, verbose, parameters, fit_params, return_train_score, return_parameters, return_n_test_samples, return_times, return_estimator, split_progress, candidate_progress, error_score)\u001b[0m\n\u001b[0;32m    700\u001b[0m \u001b[1;33m\u001b[0m\u001b[0m\n\u001b[0;32m    701\u001b[0m         \u001b[0mfit_time\u001b[0m \u001b[1;33m=\u001b[0m \u001b[0mtime\u001b[0m\u001b[1;33m.\u001b[0m\u001b[0mtime\u001b[0m\u001b[1;33m(\u001b[0m\u001b[1;33m)\u001b[0m \u001b[1;33m-\u001b[0m \u001b[0mstart_time\u001b[0m\u001b[1;33m\u001b[0m\u001b[1;33m\u001b[0m\u001b[0m\n\u001b[1;32m--> 702\u001b[1;33m         \u001b[0mtest_scores\u001b[0m \u001b[1;33m=\u001b[0m \u001b[0m_score\u001b[0m\u001b[1;33m(\u001b[0m\u001b[0mestimator\u001b[0m\u001b[1;33m,\u001b[0m \u001b[0mX_test\u001b[0m\u001b[1;33m,\u001b[0m \u001b[0my_test\u001b[0m\u001b[1;33m,\u001b[0m \u001b[0mscorer\u001b[0m\u001b[1;33m,\u001b[0m \u001b[0merror_score\u001b[0m\u001b[1;33m)\u001b[0m\u001b[1;33m\u001b[0m\u001b[1;33m\u001b[0m\u001b[0m\n\u001b[0m\u001b[0;32m    703\u001b[0m         \u001b[0mscore_time\u001b[0m \u001b[1;33m=\u001b[0m \u001b[0mtime\u001b[0m\u001b[1;33m.\u001b[0m\u001b[0mtime\u001b[0m\u001b[1;33m(\u001b[0m\u001b[1;33m)\u001b[0m \u001b[1;33m-\u001b[0m \u001b[0mstart_time\u001b[0m \u001b[1;33m-\u001b[0m \u001b[0mfit_time\u001b[0m\u001b[1;33m\u001b[0m\u001b[1;33m\u001b[0m\u001b[0m\n\u001b[0;32m    704\u001b[0m         \u001b[1;32mif\u001b[0m \u001b[0mreturn_train_score\u001b[0m\u001b[1;33m:\u001b[0m\u001b[1;33m\u001b[0m\u001b[1;33m\u001b[0m\u001b[0m\n",
      "\u001b[1;32m~\\Downloads\\anacondas\\lib\\site-packages\\sklearn\\model_selection\\_validation.py\u001b[0m in \u001b[0;36m_score\u001b[1;34m(estimator, X_test, y_test, scorer, error_score)\u001b[0m\n\u001b[0;32m    759\u001b[0m             \u001b[0mscores\u001b[0m \u001b[1;33m=\u001b[0m \u001b[0mscorer\u001b[0m\u001b[1;33m(\u001b[0m\u001b[0mestimator\u001b[0m\u001b[1;33m,\u001b[0m \u001b[0mX_test\u001b[0m\u001b[1;33m)\u001b[0m\u001b[1;33m\u001b[0m\u001b[1;33m\u001b[0m\u001b[0m\n\u001b[0;32m    760\u001b[0m         \u001b[1;32melse\u001b[0m\u001b[1;33m:\u001b[0m\u001b[1;33m\u001b[0m\u001b[1;33m\u001b[0m\u001b[0m\n\u001b[1;32m--> 761\u001b[1;33m             \u001b[0mscores\u001b[0m \u001b[1;33m=\u001b[0m \u001b[0mscorer\u001b[0m\u001b[1;33m(\u001b[0m\u001b[0mestimator\u001b[0m\u001b[1;33m,\u001b[0m \u001b[0mX_test\u001b[0m\u001b[1;33m,\u001b[0m \u001b[0my_test\u001b[0m\u001b[1;33m)\u001b[0m\u001b[1;33m\u001b[0m\u001b[1;33m\u001b[0m\u001b[0m\n\u001b[0m\u001b[0;32m    762\u001b[0m     \u001b[1;32mexcept\u001b[0m \u001b[0mException\u001b[0m\u001b[1;33m:\u001b[0m\u001b[1;33m\u001b[0m\u001b[1;33m\u001b[0m\u001b[0m\n\u001b[0;32m    763\u001b[0m         \u001b[1;32mif\u001b[0m \u001b[0merror_score\u001b[0m \u001b[1;33m==\u001b[0m \u001b[1;34m\"raise\"\u001b[0m\u001b[1;33m:\u001b[0m\u001b[1;33m\u001b[0m\u001b[1;33m\u001b[0m\u001b[0m\n",
      "\u001b[1;32m~\\Downloads\\anacondas\\lib\\site-packages\\sklearn\\metrics\\_scorer.py\u001b[0m in \u001b[0;36m__call__\u001b[1;34m(self, estimator, *args, **kwargs)\u001b[0m\n\u001b[0;32m    103\u001b[0m                 \u001b[0mscore\u001b[0m \u001b[1;33m=\u001b[0m \u001b[0mscorer\u001b[0m\u001b[1;33m.\u001b[0m\u001b[0m_score\u001b[0m\u001b[1;33m(\u001b[0m\u001b[0mcached_call\u001b[0m\u001b[1;33m,\u001b[0m \u001b[0mestimator\u001b[0m\u001b[1;33m,\u001b[0m \u001b[1;33m*\u001b[0m\u001b[0margs\u001b[0m\u001b[1;33m,\u001b[0m \u001b[1;33m**\u001b[0m\u001b[0mkwargs\u001b[0m\u001b[1;33m)\u001b[0m\u001b[1;33m\u001b[0m\u001b[1;33m\u001b[0m\u001b[0m\n\u001b[0;32m    104\u001b[0m             \u001b[1;32melse\u001b[0m\u001b[1;33m:\u001b[0m\u001b[1;33m\u001b[0m\u001b[1;33m\u001b[0m\u001b[0m\n\u001b[1;32m--> 105\u001b[1;33m                 \u001b[0mscore\u001b[0m \u001b[1;33m=\u001b[0m \u001b[0mscorer\u001b[0m\u001b[1;33m(\u001b[0m\u001b[0mestimator\u001b[0m\u001b[1;33m,\u001b[0m \u001b[1;33m*\u001b[0m\u001b[0margs\u001b[0m\u001b[1;33m,\u001b[0m \u001b[1;33m**\u001b[0m\u001b[0mkwargs\u001b[0m\u001b[1;33m)\u001b[0m\u001b[1;33m\u001b[0m\u001b[1;33m\u001b[0m\u001b[0m\n\u001b[0m\u001b[0;32m    106\u001b[0m             \u001b[0mscores\u001b[0m\u001b[1;33m[\u001b[0m\u001b[0mname\u001b[0m\u001b[1;33m]\u001b[0m \u001b[1;33m=\u001b[0m \u001b[0mscore\u001b[0m\u001b[1;33m\u001b[0m\u001b[1;33m\u001b[0m\u001b[0m\n\u001b[0;32m    107\u001b[0m         \u001b[1;32mreturn\u001b[0m \u001b[0mscores\u001b[0m\u001b[1;33m\u001b[0m\u001b[1;33m\u001b[0m\u001b[0m\n",
      "\u001b[1;32m~\\Downloads\\anacondas\\lib\\site-packages\\sklearn\\metrics\\_scorer.py\u001b[0m in \u001b[0;36m_passthrough_scorer\u001b[1;34m(estimator, *args, **kwargs)\u001b[0m\n\u001b[0;32m    416\u001b[0m \u001b[1;32mdef\u001b[0m \u001b[0m_passthrough_scorer\u001b[0m\u001b[1;33m(\u001b[0m\u001b[0mestimator\u001b[0m\u001b[1;33m,\u001b[0m \u001b[1;33m*\u001b[0m\u001b[0margs\u001b[0m\u001b[1;33m,\u001b[0m \u001b[1;33m**\u001b[0m\u001b[0mkwargs\u001b[0m\u001b[1;33m)\u001b[0m\u001b[1;33m:\u001b[0m\u001b[1;33m\u001b[0m\u001b[1;33m\u001b[0m\u001b[0m\n\u001b[0;32m    417\u001b[0m     \u001b[1;34m\"\"\"Function that wraps estimator.score\"\"\"\u001b[0m\u001b[1;33m\u001b[0m\u001b[1;33m\u001b[0m\u001b[0m\n\u001b[1;32m--> 418\u001b[1;33m     \u001b[1;32mreturn\u001b[0m \u001b[0mestimator\u001b[0m\u001b[1;33m.\u001b[0m\u001b[0mscore\u001b[0m\u001b[1;33m(\u001b[0m\u001b[1;33m*\u001b[0m\u001b[0margs\u001b[0m\u001b[1;33m,\u001b[0m \u001b[1;33m**\u001b[0m\u001b[0mkwargs\u001b[0m\u001b[1;33m)\u001b[0m\u001b[1;33m\u001b[0m\u001b[1;33m\u001b[0m\u001b[0m\n\u001b[0m\u001b[0;32m    419\u001b[0m \u001b[1;33m\u001b[0m\u001b[0m\n\u001b[0;32m    420\u001b[0m \u001b[1;33m\u001b[0m\u001b[0m\n",
      "\u001b[1;32m~\\Downloads\\anacondas\\lib\\site-packages\\sklearn\\base.py\u001b[0m in \u001b[0;36mscore\u001b[1;34m(self, X, y, sample_weight)\u001b[0m\n\u001b[0;32m    649\u001b[0m         \u001b[1;32mfrom\u001b[0m \u001b[1;33m.\u001b[0m\u001b[0mmetrics\u001b[0m \u001b[1;32mimport\u001b[0m \u001b[0maccuracy_score\u001b[0m\u001b[1;33m\u001b[0m\u001b[1;33m\u001b[0m\u001b[0m\n\u001b[0;32m    650\u001b[0m \u001b[1;33m\u001b[0m\u001b[0m\n\u001b[1;32m--> 651\u001b[1;33m         \u001b[1;32mreturn\u001b[0m \u001b[0maccuracy_score\u001b[0m\u001b[1;33m(\u001b[0m\u001b[0my\u001b[0m\u001b[1;33m,\u001b[0m \u001b[0mself\u001b[0m\u001b[1;33m.\u001b[0m\u001b[0mpredict\u001b[0m\u001b[1;33m(\u001b[0m\u001b[0mX\u001b[0m\u001b[1;33m)\u001b[0m\u001b[1;33m,\u001b[0m \u001b[0msample_weight\u001b[0m\u001b[1;33m=\u001b[0m\u001b[0msample_weight\u001b[0m\u001b[1;33m)\u001b[0m\u001b[1;33m\u001b[0m\u001b[1;33m\u001b[0m\u001b[0m\n\u001b[0m\u001b[0;32m    652\u001b[0m \u001b[1;33m\u001b[0m\u001b[0m\n\u001b[0;32m    653\u001b[0m     \u001b[1;32mdef\u001b[0m \u001b[0m_more_tags\u001b[0m\u001b[1;33m(\u001b[0m\u001b[0mself\u001b[0m\u001b[1;33m)\u001b[0m\u001b[1;33m:\u001b[0m\u001b[1;33m\u001b[0m\u001b[1;33m\u001b[0m\u001b[0m\n",
      "\u001b[1;32m~\\Downloads\\anacondas\\lib\\site-packages\\sklearn\\neighbors\\_classification.py\u001b[0m in \u001b[0;36mpredict\u001b[1;34m(self, X)\u001b[0m\n\u001b[0;32m    212\u001b[0m             \u001b[0mClass\u001b[0m \u001b[0mlabels\u001b[0m \u001b[1;32mfor\u001b[0m \u001b[0meach\u001b[0m \u001b[0mdata\u001b[0m \u001b[0msample\u001b[0m\u001b[1;33m.\u001b[0m\u001b[1;33m\u001b[0m\u001b[1;33m\u001b[0m\u001b[0m\n\u001b[0;32m    213\u001b[0m         \"\"\"\n\u001b[1;32m--> 214\u001b[1;33m         \u001b[0mneigh_dist\u001b[0m\u001b[1;33m,\u001b[0m \u001b[0mneigh_ind\u001b[0m \u001b[1;33m=\u001b[0m \u001b[0mself\u001b[0m\u001b[1;33m.\u001b[0m\u001b[0mkneighbors\u001b[0m\u001b[1;33m(\u001b[0m\u001b[0mX\u001b[0m\u001b[1;33m)\u001b[0m\u001b[1;33m\u001b[0m\u001b[1;33m\u001b[0m\u001b[0m\n\u001b[0m\u001b[0;32m    215\u001b[0m         \u001b[0mclasses_\u001b[0m \u001b[1;33m=\u001b[0m \u001b[0mself\u001b[0m\u001b[1;33m.\u001b[0m\u001b[0mclasses_\u001b[0m\u001b[1;33m\u001b[0m\u001b[1;33m\u001b[0m\u001b[0m\n\u001b[0;32m    216\u001b[0m         \u001b[0m_y\u001b[0m \u001b[1;33m=\u001b[0m \u001b[0mself\u001b[0m\u001b[1;33m.\u001b[0m\u001b[0m_y\u001b[0m\u001b[1;33m\u001b[0m\u001b[1;33m\u001b[0m\u001b[0m\n",
      "\u001b[1;32m~\\Downloads\\anacondas\\lib\\site-packages\\sklearn\\neighbors\\_base.py\u001b[0m in \u001b[0;36mkneighbors\u001b[1;34m(self, X, n_neighbors, return_distance)\u001b[0m\n\u001b[0;32m    750\u001b[0m                 \u001b[0mkwds\u001b[0m \u001b[1;33m=\u001b[0m \u001b[0mself\u001b[0m\u001b[1;33m.\u001b[0m\u001b[0meffective_metric_params_\u001b[0m\u001b[1;33m\u001b[0m\u001b[1;33m\u001b[0m\u001b[0m\n\u001b[0;32m    751\u001b[0m \u001b[1;33m\u001b[0m\u001b[0m\n\u001b[1;32m--> 752\u001b[1;33m             chunked_results = list(\n\u001b[0m\u001b[0;32m    753\u001b[0m                 pairwise_distances_chunked(\n\u001b[0;32m    754\u001b[0m                     \u001b[0mX\u001b[0m\u001b[1;33m,\u001b[0m\u001b[1;33m\u001b[0m\u001b[1;33m\u001b[0m\u001b[0m\n",
      "\u001b[1;32m~\\Downloads\\anacondas\\lib\\site-packages\\sklearn\\metrics\\pairwise.py\u001b[0m in \u001b[0;36mpairwise_distances_chunked\u001b[1;34m(X, Y, reduce_func, metric, n_jobs, working_memory, **kwds)\u001b[0m\n\u001b[0;32m   1724\u001b[0m         \u001b[1;32mif\u001b[0m \u001b[0mreduce_func\u001b[0m \u001b[1;32mis\u001b[0m \u001b[1;32mnot\u001b[0m \u001b[1;32mNone\u001b[0m\u001b[1;33m:\u001b[0m\u001b[1;33m\u001b[0m\u001b[1;33m\u001b[0m\u001b[0m\n\u001b[0;32m   1725\u001b[0m             \u001b[0mchunk_size\u001b[0m \u001b[1;33m=\u001b[0m \u001b[0mD_chunk\u001b[0m\u001b[1;33m.\u001b[0m\u001b[0mshape\u001b[0m\u001b[1;33m[\u001b[0m\u001b[1;36m0\u001b[0m\u001b[1;33m]\u001b[0m\u001b[1;33m\u001b[0m\u001b[1;33m\u001b[0m\u001b[0m\n\u001b[1;32m-> 1726\u001b[1;33m             \u001b[0mD_chunk\u001b[0m \u001b[1;33m=\u001b[0m \u001b[0mreduce_func\u001b[0m\u001b[1;33m(\u001b[0m\u001b[0mD_chunk\u001b[0m\u001b[1;33m,\u001b[0m \u001b[0msl\u001b[0m\u001b[1;33m.\u001b[0m\u001b[0mstart\u001b[0m\u001b[1;33m)\u001b[0m\u001b[1;33m\u001b[0m\u001b[1;33m\u001b[0m\u001b[0m\n\u001b[0m\u001b[0;32m   1727\u001b[0m             \u001b[0m_check_chunk_size\u001b[0m\u001b[1;33m(\u001b[0m\u001b[0mD_chunk\u001b[0m\u001b[1;33m,\u001b[0m \u001b[0mchunk_size\u001b[0m\u001b[1;33m)\u001b[0m\u001b[1;33m\u001b[0m\u001b[1;33m\u001b[0m\u001b[0m\n\u001b[0;32m   1728\u001b[0m         \u001b[1;32myield\u001b[0m \u001b[0mD_chunk\u001b[0m\u001b[1;33m\u001b[0m\u001b[1;33m\u001b[0m\u001b[0m\n",
      "\u001b[1;32m~\\Downloads\\anacondas\\lib\\site-packages\\sklearn\\neighbors\\_base.py\u001b[0m in \u001b[0;36m_kneighbors_reduce_func\u001b[1;34m(self, dist, start, n_neighbors, return_distance)\u001b[0m\n\u001b[0;32m    632\u001b[0m         \"\"\"\n\u001b[0;32m    633\u001b[0m         \u001b[0msample_range\u001b[0m \u001b[1;33m=\u001b[0m \u001b[0mnp\u001b[0m\u001b[1;33m.\u001b[0m\u001b[0marange\u001b[0m\u001b[1;33m(\u001b[0m\u001b[0mdist\u001b[0m\u001b[1;33m.\u001b[0m\u001b[0mshape\u001b[0m\u001b[1;33m[\u001b[0m\u001b[1;36m0\u001b[0m\u001b[1;33m]\u001b[0m\u001b[1;33m)\u001b[0m\u001b[1;33m[\u001b[0m\u001b[1;33m:\u001b[0m\u001b[1;33m,\u001b[0m \u001b[1;32mNone\u001b[0m\u001b[1;33m]\u001b[0m\u001b[1;33m\u001b[0m\u001b[1;33m\u001b[0m\u001b[0m\n\u001b[1;32m--> 634\u001b[1;33m         \u001b[0mneigh_ind\u001b[0m \u001b[1;33m=\u001b[0m \u001b[0mnp\u001b[0m\u001b[1;33m.\u001b[0m\u001b[0margpartition\u001b[0m\u001b[1;33m(\u001b[0m\u001b[0mdist\u001b[0m\u001b[1;33m,\u001b[0m \u001b[0mn_neighbors\u001b[0m \u001b[1;33m-\u001b[0m \u001b[1;36m1\u001b[0m\u001b[1;33m,\u001b[0m \u001b[0maxis\u001b[0m\u001b[1;33m=\u001b[0m\u001b[1;36m1\u001b[0m\u001b[1;33m)\u001b[0m\u001b[1;33m\u001b[0m\u001b[1;33m\u001b[0m\u001b[0m\n\u001b[0m\u001b[0;32m    635\u001b[0m         \u001b[0mneigh_ind\u001b[0m \u001b[1;33m=\u001b[0m \u001b[0mneigh_ind\u001b[0m\u001b[1;33m[\u001b[0m\u001b[1;33m:\u001b[0m\u001b[1;33m,\u001b[0m \u001b[1;33m:\u001b[0m\u001b[0mn_neighbors\u001b[0m\u001b[1;33m]\u001b[0m\u001b[1;33m\u001b[0m\u001b[1;33m\u001b[0m\u001b[0m\n\u001b[0;32m    636\u001b[0m         \u001b[1;31m# argpartition doesn't guarantee sorted order, so we sort again\u001b[0m\u001b[1;33m\u001b[0m\u001b[1;33m\u001b[0m\u001b[0m\n",
      "\u001b[1;32m~\\Downloads\\anacondas\\lib\\site-packages\\numpy\\core\\overrides.py\u001b[0m in \u001b[0;36margpartition\u001b[1;34m(*args, **kwargs)\u001b[0m\n",
      "\u001b[1;32m~\\Downloads\\anacondas\\lib\\site-packages\\numpy\\core\\fromnumeric.py\u001b[0m in \u001b[0;36margpartition\u001b[1;34m(a, kth, axis, kind, order)\u001b[0m\n\u001b[0;32m    869\u001b[0m \u001b[1;33m\u001b[0m\u001b[0m\n\u001b[0;32m    870\u001b[0m     \"\"\"\n\u001b[1;32m--> 871\u001b[1;33m     \u001b[1;32mreturn\u001b[0m \u001b[0m_wrapfunc\u001b[0m\u001b[1;33m(\u001b[0m\u001b[0ma\u001b[0m\u001b[1;33m,\u001b[0m \u001b[1;34m'argpartition'\u001b[0m\u001b[1;33m,\u001b[0m \u001b[0mkth\u001b[0m\u001b[1;33m,\u001b[0m \u001b[0maxis\u001b[0m\u001b[1;33m=\u001b[0m\u001b[0maxis\u001b[0m\u001b[1;33m,\u001b[0m \u001b[0mkind\u001b[0m\u001b[1;33m=\u001b[0m\u001b[0mkind\u001b[0m\u001b[1;33m,\u001b[0m \u001b[0morder\u001b[0m\u001b[1;33m=\u001b[0m\u001b[0morder\u001b[0m\u001b[1;33m)\u001b[0m\u001b[1;33m\u001b[0m\u001b[1;33m\u001b[0m\u001b[0m\n\u001b[0m\u001b[0;32m    872\u001b[0m \u001b[1;33m\u001b[0m\u001b[0m\n\u001b[0;32m    873\u001b[0m \u001b[1;33m\u001b[0m\u001b[0m\n",
      "\u001b[1;32m~\\Downloads\\anacondas\\lib\\site-packages\\numpy\\core\\fromnumeric.py\u001b[0m in \u001b[0;36m_wrapfunc\u001b[1;34m(obj, method, *args, **kwds)\u001b[0m\n\u001b[0;32m     55\u001b[0m \u001b[1;33m\u001b[0m\u001b[0m\n\u001b[0;32m     56\u001b[0m     \u001b[1;32mtry\u001b[0m\u001b[1;33m:\u001b[0m\u001b[1;33m\u001b[0m\u001b[1;33m\u001b[0m\u001b[0m\n\u001b[1;32m---> 57\u001b[1;33m         \u001b[1;32mreturn\u001b[0m \u001b[0mbound\u001b[0m\u001b[1;33m(\u001b[0m\u001b[1;33m*\u001b[0m\u001b[0margs\u001b[0m\u001b[1;33m,\u001b[0m \u001b[1;33m**\u001b[0m\u001b[0mkwds\u001b[0m\u001b[1;33m)\u001b[0m\u001b[1;33m\u001b[0m\u001b[1;33m\u001b[0m\u001b[0m\n\u001b[0m\u001b[0;32m     58\u001b[0m     \u001b[1;32mexcept\u001b[0m \u001b[0mTypeError\u001b[0m\u001b[1;33m:\u001b[0m\u001b[1;33m\u001b[0m\u001b[1;33m\u001b[0m\u001b[0m\n\u001b[0;32m     59\u001b[0m         \u001b[1;31m# A TypeError occurs if the object does have such a method in its\u001b[0m\u001b[1;33m\u001b[0m\u001b[1;33m\u001b[0m\u001b[0m\n",
      "\u001b[1;31mKeyboardInterrupt\u001b[0m: "
     ]
    }
   ],
   "source": [
    "cross_val_score(dt,x,y,cv=4).mean()\n"
   ]
  },
  {
   "cell_type": "code",
   "execution_count": null,
   "id": "4525ad93",
   "metadata": {},
   "outputs": [],
   "source": [
    "cross_val_score(knn,x,y,cv=4).mean()"
   ]
  },
  {
   "cell_type": "code",
   "execution_count": null,
   "id": "fdf22301",
   "metadata": {},
   "outputs": [],
   "source": [
    "cross_val_score(rf,x,y,cv=4).mean()\n"
   ]
  },
  {
   "cell_type": "code",
   "execution_count": null,
   "id": "f562433d",
   "metadata": {},
   "outputs": [],
   "source": [
    "cross_val_score(lr,x,y,cv=4).mean()"
   ]
  },
  {
   "cell_type": "code",
   "execution_count": 56,
   "id": "de806854",
   "metadata": {},
   "outputs": [],
   "source": [
    "#train test split\n",
    "x_train,x_test,y_train,y_test = train_test_split(x,y,test_size=0.3,random_state=42)"
   ]
  },
  {
   "cell_type": "code",
   "execution_count": 58,
   "id": "3cb35b54",
   "metadata": {},
   "outputs": [
    {
     "data": {
      "image/png": "[encoded data removed]",
      "text/plain": [
       "<Figure size 2000x1500 with 1 Axes>"
      ]
     },
     "metadata": {},
     "output_type": "display_data"
    }
   ],
   "source": [
    "#boxplot\n",
    "plt.figure(figsize=(20, 15))\n",
    "sns.boxplot(data=x_train, orient='h')\n",
    "plt.title('Boxplot for Each Column')\n",
    "plt.show()"
   ]
  },
  {
   "cell_type": "code",
   "execution_count": 59,
   "id": "52adcefa",
   "metadata": {},
   "outputs": [],
   "source": [
    "#creating a function to handling the outliers\n",
    "def handle_outliers(df, multiplier=1.5):\n",
    "\n",
    "\n",
    "    \n",
    "\n",
    "    for column in df.columns:\n",
    "        column_data = df[column]\n",
    "        IQR = column_data.quantile(0.75) - column_data.quantile(0.25)\n",
    "        lower_bound = column_data.quantile(0.25) - (IQR * multiplier)\n",
    "        upper_bound = column_data.quantile(0.75) + (IQR * multiplier)\n",
    "\n",
    "        df[column] = np.where(column_data > upper_bound, upper_bound,\n",
    "                                     np.where(column_data < lower_bound, lower_bound,\n",
    "                                              column_data))\n",
    "\n",
    "    return df"
   ]
  },
  {
   "cell_type": "code",
   "execution_count": 60,
   "id": "f88934b8",
   "metadata": {
    "scrolled": true
   },
   "outputs": [],
   "source": [
    "x_train = handle_outliers(x_train)"
   ]
  },
  {
   "cell_type": "code",
   "execution_count": 61,
   "id": "2cee9f96",
   "metadata": {},
   "outputs": [
    {
     "data": {
      "image/png": "[encoded data removed]",
      "text/plain": [
       "<Figure size 2000x1500 with 1 Axes>"
      ]
     },
     "metadata": {},
     "output_type": "display_data"
    }
   ],
   "source": [
    "plt.figure(figsize=(20, 15))\n",
    "sns.boxplot(data=x_train, orient='h')\n",
    "plt.title('Boxplot for Each Column')\n",
    "plt.show()"
   ]
  },
  {
   "cell_type": "code",
   "execution_count": 62,
   "id": "92bad0bc",
   "metadata": {},
   "outputs": [
    {
     "data": {
      "text/plain": [
       "array([False, False,  True,  True,  True,  True, False, False, False,\n",
       "       False, False,  True, False, False, False, False, False, False,\n",
       "       False, False, False, False,  True,  True,  True,  True, False,\n",
       "       False,  True,  True,  True,  True,  True,  True,  True,  True,\n",
       "        True,  True,  True, False, False])"
      ]
     },
     "execution_count": 62,
     "metadata": {},
     "output_type": "execute_result"
    }
   ],
   "source": [
    "#dropping highly correlated features\n",
    "#variance Threshold\n",
    "from sklearn.feature_selection import VarianceThreshold\n",
    "var_thersh = VarianceThreshold(threshold=0)\n",
    "var_thersh.fit(x_train)\n",
    "var_thersh.get_support()"
   ]
  },
  {
   "cell_type": "code",
   "execution_count": 63,
   "id": "58698aa2",
   "metadata": {},
   "outputs": [
    {
     "data": {
      "text/plain": [
       "['duration',\n",
       " ' protocol_type',\n",
       " ' land',\n",
       " ' wrong_fragment',\n",
       " ' urgent',\n",
       " ' hot',\n",
       " ' num_failed_logins',\n",
       " ' num_compromised',\n",
       " ' root_shell',\n",
       " ' su_attempted',\n",
       " ' num_root',\n",
       " ' num_file_creations',\n",
       " ' num_shells',\n",
       " ' num_access_files',\n",
       " ' num_outbound_cmds',\n",
       " ' is_host_login',\n",
       " ' is_guest_login',\n",
       " ' rerror_rate',\n",
       " ' srv_rerror_rate',\n",
       " ' dst_host_rerror_rate',\n",
       " ' dst_host_srv_rerror_rate']"
      ]
     },
     "execution_count": 63,
     "metadata": {},
     "output_type": "execute_result"
    }
   ],
   "source": [
    "drop_columns = [i for i in x_train.columns\n",
    "                 if i not in x_train.columns[var_thersh.get_support()]]\n",
    "drop_columns\n",
    "    "
   ]
  },
  {
   "cell_type": "code",
   "execution_count": 64,
   "id": "f96d857e",
   "metadata": {},
   "outputs": [],
   "source": [
    "x_train = x_train.drop(drop_columns,axis=1)"
   ]
  },
  {
   "cell_type": "code",
   "execution_count": 65,
   "id": "ab9eec70",
   "metadata": {},
   "outputs": [],
   "source": [
    "#data cleaning process same for x_test\n",
    "x_test = handle_outliers(x_test)"
   ]
  },
  {
   "cell_type": "code",
   "execution_count": 66,
   "id": "a8e97c15",
   "metadata": {},
   "outputs": [],
   "source": [
    "from sklearn.feature_selection import VarianceThreshold\n",
    "var_thersh = VarianceThreshold(threshold=0)\n",
    "var_thersh.fit(x_test)\n",
    "var_thersh.get_support()\n",
    "\n",
    "drop_columns = [i for i in x_test.columns\n",
    "                 if i not in x_test.columns[var_thersh.get_support()]]\n",
    "drop_columns\n",
    "\n",
    "x_test = x_test.drop(drop_columns,axis=1)"
   ]
  },
  {
   "cell_type": "code",
   "execution_count": 67,
   "id": "e5d38507",
   "metadata": {},
   "outputs": [
    {
     "data": {
      "text/plain": [
       "(245265, 20)"
      ]
     },
     "execution_count": 67,
     "metadata": {},
     "output_type": "execute_result"
    }
   ],
   "source": [
    "x_test.shape"
   ]
  },
  {
   "cell_type": "code",
   "execution_count": 58,
   "id": "d503fdf8",
   "metadata": {},
   "outputs": [],
   "source": [
    "#Oversampling was implemented as a solution for imbalance, ensuring a more equitable representation of all classes in the dataset\n",
    "from imblearn.over_sampling import RandomOverSampler\n",
    "rs = RandomOverSampler(random_state=42)\n",
    "x_train,y_train = rs.fit_resample(x_train,y_train)"
   ]
  },
  {
   "cell_type": "markdown",
   "id": "c3f7ca45",
   "metadata": {},
   "source": [
    "# Creating a model"
   ]
  },
  {
   "cell_type": "code",
   "execution_count": 68,
   "id": "9d012c3a",
   "metadata": {},
   "outputs": [],
   "source": [
    "from sklearn.tree import DecisionTreeClassifier\n",
    "dt = DecisionTreeClassifier()"
   ]
  },
  {
   "cell_type": "code",
   "execution_count": 69,
   "id": "ca6076bc",
   "metadata": {
    "scrolled": true
   },
   "outputs": [
    {
     "data": {
      "text/plain": [
       "DecisionTreeClassifier()"
      ]
     },
     "execution_count": 69,
     "metadata": {},
     "output_type": "execute_result"
    }
   ],
   "source": [
    "dt.fit(x_train,y_train)"
   ]
  },
  {
   "cell_type": "code",
   "execution_count": 70,
   "id": "782e71a7",
   "metadata": {},
   "outputs": [
    {
     "data": {
      "text/plain": [
       "(572285, 20)"
      ]
     },
     "execution_count": 70,
     "metadata": {},
     "output_type": "execute_result"
    }
   ],
   "source": [
    "x_train.shape"
   ]
  },
  {
   "cell_type": "code",
   "execution_count": 71,
   "id": "e013bef3",
   "metadata": {
    "scrolled": true
   },
   "outputs": [
    {
     "name": "stdout",
     "output_type": "stream",
     "text": [
      "              precision    recall  f1-score   support\n",
      "\n",
      "           0       1.00      1.00      1.00    403700\n",
      "           1       1.00      1.00      1.00    168585\n",
      "\n",
      "    accuracy                           1.00    572285\n",
      "   macro avg       1.00      1.00      1.00    572285\n",
      "weighted avg       1.00      1.00      1.00    572285\n",
      "\n"
     ]
    }
   ],
   "source": [
    "from sklearn.metrics import precision_score,accuracy_score,recall_score,classification_report\n",
    "\n",
    "#predicting for training set\n",
    "\n",
    "y_train_pred = dt.predict(x_train)\n",
    "\n",
    "\n",
    "classification_rep = classification_report(y_train,y_train_pred)\n",
    "print(classification_rep)"
   ]
  },
  {
   "cell_type": "code",
   "execution_count": 73,
   "id": "e641f5fa",
   "metadata": {},
   "outputs": [
    {
     "name": "stdout",
     "output_type": "stream",
     "text": [
      "              precision    recall  f1-score   support\n",
      "\n",
      "           0       1.00      1.00      1.00    173010\n",
      "           1       1.00      1.00      1.00     72255\n",
      "\n",
      "    accuracy                           1.00    245265\n",
      "   macro avg       1.00      1.00      1.00    245265\n",
      "weighted avg       1.00      1.00      1.00    245265\n",
      "\n"
     ]
    }
   ],
   "source": [
    "#predicting for testing set\n",
    "y_pred = dt.predict(x_test)\n",
    "\n",
    "classification_rep = classification_report(y_test,y_pred)\n",
    "print(classification_rep)"
   ]
  },
  {
   "cell_type": "code",
   "execution_count": 74,
   "id": "5d63a092",
   "metadata": {},
   "outputs": [
    {
     "name": "stdout",
     "output_type": "stream",
     "text": [
      "0.9998246794283734\n"
     ]
    }
   ],
   "source": [
    "print(accuracy_score(y_test,y_pred))"
   ]
  },
  {
   "cell_type": "code",
   "execution_count": 129,
   "id": "078592c8",
   "metadata": {},
   "outputs": [
    {
     "data": {
      "text/html": [
       "<div>\n",
       "<style scoped>\n",
       "    .dataframe tbody tr th:only-of-type {\n",
       "        vertical-align: middle;\n",
       "    }\n",
       "\n",
       "    .dataframe tbody tr th {\n",
       "        vertical-align: top;\n",
       "    }\n",
       "\n",
       "    .dataframe thead th {\n",
       "        text-align: right;\n",
       "    }\n",
       "</style>\n",
       "<table border=\"1\" class=\"dataframe\">\n",
       "  <thead>\n",
       "    <tr style=\"text-align: right;\">\n",
       "      <th>col_0</th>\n",
       "      <th>0</th>\n",
       "      <th>1</th>\n",
       "    </tr>\n",
       "    <tr>\n",
       "      <th>Attack</th>\n",
       "      <th></th>\n",
       "      <th></th>\n",
       "    </tr>\n",
       "  </thead>\n",
       "  <tbody>\n",
       "    <tr>\n",
       "      <th>0</th>\n",
       "      <td>172989</td>\n",
       "      <td>21</td>\n",
       "    </tr>\n",
       "    <tr>\n",
       "      <th>1</th>\n",
       "      <td>22</td>\n",
       "      <td>72233</td>\n",
       "    </tr>\n",
       "  </tbody>\n",
       "</table>\n",
       "</div>"
      ],
      "text/plain": [
       "col_0        0      1\n",
       "Attack               \n",
       "0       172989     21\n",
       "1           22  72233"
      ]
     },
     "execution_count": 129,
     "metadata": {},
     "output_type": "execute_result"
    }
   ],
   "source": [
    "pd.crosstab(y_test,y_pred)"
   ]
  },
  {
   "cell_type": "markdown",
   "id": "53ddd75c",
   "metadata": {},
   "source": [
    "The model demonstrates strong predictive performance on both training and testing datasets, suggesting its potential utility in a network intrusion detection system."
   ]
  },
  {
   "cell_type": "markdown",
   "id": "9bfb2ee8",
   "metadata": {},
   "source": [
    "# Multinomial Classification"
   ]
  },
  {
   "cell_type": "code",
   "execution_count": 95,
   "id": "8d6af2e7",
   "metadata": {
    "scrolled": true
   },
   "outputs": [
    {
     "data": {
      "text/plain": [
       "Normal            576710\n",
       "Neptune           227228\n",
       "Satan               5019\n",
       "Smurf               3007\n",
       "PortSweep           2964\n",
       "NMap                1554\n",
       "Back                 968\n",
       "GuessPassword         53\n",
       "BufferOverflow        30\n",
       "RootKit               10\n",
       "FTPWrite               7\n",
       "Name: Attack, dtype: int64"
      ]
     },
     "execution_count": 95,
     "metadata": {},
     "output_type": "execute_result"
    }
   ],
   "source": [
    "df['Attack'].value_counts()\n"
   ]
  },
  {
   "cell_type": "code",
   "execution_count": 96,
   "id": "f919e966",
   "metadata": {},
   "outputs": [],
   "source": [
    "#dropping null values\n",
    "df = df.dropna(axis=0)"
   ]
  },
  {
   "cell_type": "code",
   "execution_count": 97,
   "id": "4760eaf3",
   "metadata": {},
   "outputs": [],
   "source": [
    "#The dataset was partitioned into features and targets\n",
    "x = df.drop('Attack',axis=1)\n",
    "y = df['Attack']"
   ]
  },
  {
   "cell_type": "code",
   "execution_count": 98,
   "id": "bb2f5132",
   "metadata": {},
   "outputs": [],
   "source": [
    "#encoding the target categories\n",
    "y = y.replace({'Normal' : 0,'Back' : 1,'BufferOverflow' : 2, 'FTPWrite' : 3,'GuessPassword' : 4, 'Neptune' :5,\n",
    "                                    'NMap' : 6,'PortSweep' : 7, 'RootKit' : 8, 'Satan' : 9, 'Smurf' : 10 })"
   ]
  },
  {
   "cell_type": "code",
   "execution_count": 99,
   "id": "37d97b8f",
   "metadata": {
    "scrolled": true
   },
   "outputs": [
    {
     "data": {
      "text/plain": [
       "0     576710\n",
       "5     227228\n",
       "9       5019\n",
       "10      3007\n",
       "7       2964\n",
       "6       1554\n",
       "1        968\n",
       "4         53\n",
       "2         30\n",
       "8         10\n",
       "3          7\n",
       "Name: Attack, dtype: int64"
      ]
     },
     "execution_count": 99,
     "metadata": {},
     "output_type": "execute_result"
    }
   ],
   "source": [
    "y.value_counts()"
   ]
  },
  {
   "cell_type": "code",
   "execution_count": 100,
   "id": "78dc760b",
   "metadata": {},
   "outputs": [
    {
     "data": {
      "image/png": "[encoded data removed]",
      "text/plain": [
       "<Figure size 640x480 with 1 Axes>"
      ]
     },
     "metadata": {},
     "output_type": "display_data"
    }
   ],
   "source": [
    "#barchart\n",
    "plt.bar( y.value_counts().index, y.value_counts().values, color=['blue','orange','green','yellow','brown','violet'])\n",
    "plt.xlabel('y')\n",
    "plt.ylabel('counts')\n",
    "plt.show()"
   ]
  },
  {
   "cell_type": "markdown",
   "id": "3858a3a4",
   "metadata": {},
   "source": [
    "The bar chart reveals an imbalance in the target column, indicating a disparity in the distribution of data across different classes in the multinomial classification. Resampling techniques may be necessary to address this imbalance."
   ]
  },
  {
   "cell_type": "code",
   "execution_count": 101,
   "id": "b202a851",
   "metadata": {},
   "outputs": [],
   "source": [
    "#Oversampling was implemented as a solution to address data imbalance in the multinomial classification, ensuring a more equitable representation of all classes in the dataset\n",
    "from imblearn.over_sampling import SMOTE"
   ]
  },
  {
   "cell_type": "code",
   "execution_count": 102,
   "id": "f6108212",
   "metadata": {
    "scrolled": true
   },
   "outputs": [],
   "source": [
    "os = SMOTE()"
   ]
  },
  {
   "cell_type": "code",
   "execution_count": 109,
   "id": "bda3b0bf",
   "metadata": {},
   "outputs": [],
   "source": [
    "x_res,y_res = os.fit_resample(x,y)"
   ]
  },
  {
   "cell_type": "code",
   "execution_count": 110,
   "id": "50f48af1",
   "metadata": {},
   "outputs": [],
   "source": [
    "X_train,X_test,Y_train,Y_test = train_test_split(x_res,y_res,test_size=0.3,random_state=42)"
   ]
  },
  {
   "cell_type": "code",
   "execution_count": 125,
   "id": "cf217bc3",
   "metadata": {},
   "outputs": [
    {
     "data": {
      "text/plain": [
       "((6343810, 41), (6343810,))"
      ]
     },
     "execution_count": 125,
     "metadata": {},
     "output_type": "execute_result"
    }
   ],
   "source": [
    "x_res.shape,y_res.shape"
   ]
  },
  {
   "cell_type": "code",
   "execution_count": 111,
   "id": "9fa41d8a",
   "metadata": {},
   "outputs": [],
   "source": [
    "X_train = handle_outliers(X_train)"
   ]
  },
  {
   "cell_type": "code",
   "execution_count": 112,
   "id": "3d9f959b",
   "metadata": {},
   "outputs": [],
   "source": [
    "X_test = handle_outliers(X_test)"
   ]
  },
  {
   "cell_type": "code",
   "execution_count": 113,
   "id": "d5114b92",
   "metadata": {
    "scrolled": true
   },
   "outputs": [
    {
     "data": {
      "text/plain": [
       "DecisionTreeClassifier()"
      ]
     },
     "execution_count": 113,
     "metadata": {},
     "output_type": "execute_result"
    }
   ],
   "source": [
    "dt.fit(X_train,Y_train)"
   ]
  },
  {
   "cell_type": "code",
   "execution_count": 114,
   "id": "810f5692",
   "metadata": {},
   "outputs": [
    {
     "data": {
      "text/plain": [
       "7     404226\n",
       "9     404044\n",
       "1     403912\n",
       "5     403846\n",
       "2     403843\n",
       "6     403736\n",
       "4     403701\n",
       "0     403500\n",
       "3     403426\n",
       "10    403249\n",
       "8     403184\n",
       "Name: Attack, dtype: int64"
      ]
     },
     "execution_count": 114,
     "metadata": {},
     "output_type": "execute_result"
    }
   ],
   "source": [
    "Y_train.value_counts()"
   ]
  },
  {
   "cell_type": "code",
   "execution_count": 126,
   "id": "6a37c1cd",
   "metadata": {},
   "outputs": [
    {
     "data": {
      "text/plain": [
       "((4440667, 41), (4440667,))"
      ]
     },
     "execution_count": 126,
     "metadata": {},
     "output_type": "execute_result"
    }
   ],
   "source": [
    "X_train.shape,Y_train.shape"
   ]
  },
  {
   "cell_type": "code",
   "execution_count": 128,
   "id": "1e4de112",
   "metadata": {},
   "outputs": [
    {
     "name": "stdout",
     "output_type": "stream",
     "text": [
      "              precision    recall  f1-score   support\n",
      "\n",
      "           0       1.00      1.00      1.00    403500\n",
      "           1       1.00      1.00      1.00    403912\n",
      "           2       1.00      1.00      1.00    403843\n",
      "           3       1.00      1.00      1.00    403426\n",
      "           4       1.00      1.00      1.00    403701\n",
      "           5       1.00      1.00      1.00    403846\n",
      "           6       1.00      1.00      1.00    403736\n",
      "           7       1.00      1.00      1.00    404226\n",
      "           8       1.00      1.00      1.00    403184\n",
      "           9       1.00      1.00      1.00    404044\n",
      "          10       1.00      1.00      1.00    403249\n",
      "\n",
      "    accuracy                           1.00   4440667\n",
      "   macro avg       1.00      1.00      1.00   4440667\n",
      "weighted avg       1.00      1.00      1.00   4440667\n",
      "\n"
     ]
    }
   ],
   "source": [
    "#predicting for training set\n",
    "y_train_pred = dt.predict(X_train)\n",
    "\n",
    "print(classification_report(Y_train,y_train_pred))\n"
   ]
  },
  {
   "cell_type": "code",
   "execution_count": 130,
   "id": "812e4e6c",
   "metadata": {},
   "outputs": [
    {
     "data": {
      "text/html": [
       "<div>\n",
       "<style scoped>\n",
       "    .dataframe tbody tr th:only-of-type {\n",
       "        vertical-align: middle;\n",
       "    }\n",
       "\n",
       "    .dataframe tbody tr th {\n",
       "        vertical-align: top;\n",
       "    }\n",
       "\n",
       "    .dataframe thead th {\n",
       "        text-align: right;\n",
       "    }\n",
       "</style>\n",
       "<table border=\"1\" class=\"dataframe\">\n",
       "  <thead>\n",
       "    <tr style=\"text-align: right;\">\n",
       "      <th>col_0</th>\n",
       "      <th>0</th>\n",
       "      <th>1</th>\n",
       "      <th>2</th>\n",
       "      <th>3</th>\n",
       "      <th>4</th>\n",
       "      <th>5</th>\n",
       "      <th>6</th>\n",
       "      <th>7</th>\n",
       "      <th>8</th>\n",
       "      <th>9</th>\n",
       "      <th>10</th>\n",
       "    </tr>\n",
       "    <tr>\n",
       "      <th>Attack</th>\n",
       "      <th></th>\n",
       "      <th></th>\n",
       "      <th></th>\n",
       "      <th></th>\n",
       "      <th></th>\n",
       "      <th></th>\n",
       "      <th></th>\n",
       "      <th></th>\n",
       "      <th></th>\n",
       "      <th></th>\n",
       "      <th></th>\n",
       "    </tr>\n",
       "  </thead>\n",
       "  <tbody>\n",
       "    <tr>\n",
       "      <th>0</th>\n",
       "      <td>403500</td>\n",
       "      <td>0</td>\n",
       "      <td>0</td>\n",
       "      <td>0</td>\n",
       "      <td>0</td>\n",
       "      <td>0</td>\n",
       "      <td>0</td>\n",
       "      <td>0</td>\n",
       "      <td>0</td>\n",
       "      <td>0</td>\n",
       "      <td>0</td>\n",
       "    </tr>\n",
       "    <tr>\n",
       "      <th>1</th>\n",
       "      <td>0</td>\n",
       "      <td>403912</td>\n",
       "      <td>0</td>\n",
       "      <td>0</td>\n",
       "      <td>0</td>\n",
       "      <td>0</td>\n",
       "      <td>0</td>\n",
       "      <td>0</td>\n",
       "      <td>0</td>\n",
       "      <td>0</td>\n",
       "      <td>0</td>\n",
       "    </tr>\n",
       "    <tr>\n",
       "      <th>2</th>\n",
       "      <td>0</td>\n",
       "      <td>0</td>\n",
       "      <td>403843</td>\n",
       "      <td>0</td>\n",
       "      <td>0</td>\n",
       "      <td>0</td>\n",
       "      <td>0</td>\n",
       "      <td>0</td>\n",
       "      <td>0</td>\n",
       "      <td>0</td>\n",
       "      <td>0</td>\n",
       "    </tr>\n",
       "    <tr>\n",
       "      <th>3</th>\n",
       "      <td>0</td>\n",
       "      <td>0</td>\n",
       "      <td>0</td>\n",
       "      <td>403426</td>\n",
       "      <td>0</td>\n",
       "      <td>0</td>\n",
       "      <td>0</td>\n",
       "      <td>0</td>\n",
       "      <td>0</td>\n",
       "      <td>0</td>\n",
       "      <td>0</td>\n",
       "    </tr>\n",
       "    <tr>\n",
       "      <th>4</th>\n",
       "      <td>0</td>\n",
       "      <td>0</td>\n",
       "      <td>0</td>\n",
       "      <td>0</td>\n",
       "      <td>403701</td>\n",
       "      <td>0</td>\n",
       "      <td>0</td>\n",
       "      <td>0</td>\n",
       "      <td>0</td>\n",
       "      <td>0</td>\n",
       "      <td>0</td>\n",
       "    </tr>\n",
       "    <tr>\n",
       "      <th>5</th>\n",
       "      <td>0</td>\n",
       "      <td>0</td>\n",
       "      <td>0</td>\n",
       "      <td>0</td>\n",
       "      <td>0</td>\n",
       "      <td>403846</td>\n",
       "      <td>0</td>\n",
       "      <td>0</td>\n",
       "      <td>0</td>\n",
       "      <td>0</td>\n",
       "      <td>0</td>\n",
       "    </tr>\n",
       "    <tr>\n",
       "      <th>6</th>\n",
       "      <td>0</td>\n",
       "      <td>0</td>\n",
       "      <td>0</td>\n",
       "      <td>0</td>\n",
       "      <td>0</td>\n",
       "      <td>0</td>\n",
       "      <td>403736</td>\n",
       "      <td>0</td>\n",
       "      <td>0</td>\n",
       "      <td>0</td>\n",
       "      <td>0</td>\n",
       "    </tr>\n",
       "    <tr>\n",
       "      <th>7</th>\n",
       "      <td>0</td>\n",
       "      <td>0</td>\n",
       "      <td>0</td>\n",
       "      <td>0</td>\n",
       "      <td>0</td>\n",
       "      <td>0</td>\n",
       "      <td>0</td>\n",
       "      <td>404226</td>\n",
       "      <td>0</td>\n",
       "      <td>0</td>\n",
       "      <td>0</td>\n",
       "    </tr>\n",
       "    <tr>\n",
       "      <th>8</th>\n",
       "      <td>0</td>\n",
       "      <td>0</td>\n",
       "      <td>0</td>\n",
       "      <td>0</td>\n",
       "      <td>0</td>\n",
       "      <td>0</td>\n",
       "      <td>0</td>\n",
       "      <td>0</td>\n",
       "      <td>403184</td>\n",
       "      <td>0</td>\n",
       "      <td>0</td>\n",
       "    </tr>\n",
       "    <tr>\n",
       "      <th>9</th>\n",
       "      <td>0</td>\n",
       "      <td>0</td>\n",
       "      <td>0</td>\n",
       "      <td>0</td>\n",
       "      <td>0</td>\n",
       "      <td>0</td>\n",
       "      <td>0</td>\n",
       "      <td>0</td>\n",
       "      <td>0</td>\n",
       "      <td>404044</td>\n",
       "      <td>0</td>\n",
       "    </tr>\n",
       "    <tr>\n",
       "      <th>10</th>\n",
       "      <td>0</td>\n",
       "      <td>0</td>\n",
       "      <td>0</td>\n",
       "      <td>0</td>\n",
       "      <td>0</td>\n",
       "      <td>0</td>\n",
       "      <td>0</td>\n",
       "      <td>0</td>\n",
       "      <td>0</td>\n",
       "      <td>0</td>\n",
       "      <td>403249</td>\n",
       "    </tr>\n",
       "  </tbody>\n",
       "</table>\n",
       "</div>"
      ],
      "text/plain": [
       "col_0       0       1       2       3       4       5       6       7   \\\n",
       "Attack                                                                   \n",
       "0       403500       0       0       0       0       0       0       0   \n",
       "1            0  403912       0       0       0       0       0       0   \n",
       "2            0       0  403843       0       0       0       0       0   \n",
       "3            0       0       0  403426       0       0       0       0   \n",
       "4            0       0       0       0  403701       0       0       0   \n",
       "5            0       0       0       0       0  403846       0       0   \n",
       "6            0       0       0       0       0       0  403736       0   \n",
       "7            0       0       0       0       0       0       0  404226   \n",
       "8            0       0       0       0       0       0       0       0   \n",
       "9            0       0       0       0       0       0       0       0   \n",
       "10           0       0       0       0       0       0       0       0   \n",
       "\n",
       "col_0       8       9       10  \n",
       "Attack                          \n",
       "0            0       0       0  \n",
       "1            0       0       0  \n",
       "2            0       0       0  \n",
       "3            0       0       0  \n",
       "4            0       0       0  \n",
       "5            0       0       0  \n",
       "6            0       0       0  \n",
       "7            0       0       0  \n",
       "8       403184       0       0  \n",
       "9            0  404044       0  \n",
       "10           0       0  403249  "
      ]
     },
     "execution_count": 130,
     "metadata": {},
     "output_type": "execute_result"
    }
   ],
   "source": [
    "pd.crosstab(Y_train,y_train_pred)"
   ]
  },
  {
   "cell_type": "code",
   "execution_count": 131,
   "id": "5840d51d",
   "metadata": {},
   "outputs": [],
   "source": [
    "#predicting for testing set\n",
    "Y_pred = dt.predict(X_test)"
   ]
  },
  {
   "cell_type": "code",
   "execution_count": 132,
   "id": "5e749cdf",
   "metadata": {},
   "outputs": [
    {
     "data": {
      "text/plain": [
       "8     173526\n",
       "10    173461\n",
       "3     173284\n",
       "0     173210\n",
       "4     173009\n",
       "6     172974\n",
       "2     172867\n",
       "5     172864\n",
       "1     172798\n",
       "9     172666\n",
       "7     172484\n",
       "Name: Attack, dtype: int64"
      ]
     },
     "execution_count": 132,
     "metadata": {},
     "output_type": "execute_result"
    }
   ],
   "source": [
    "Y_test.value_counts()"
   ]
  },
  {
   "cell_type": "code",
   "execution_count": 133,
   "id": "60a4dd23",
   "metadata": {},
   "outputs": [
    {
     "name": "stdout",
     "output_type": "stream",
     "text": [
      "              precision    recall  f1-score   support\n",
      "\n",
      "           0       1.00      1.00      1.00    173210\n",
      "           1       1.00      1.00      1.00    172798\n",
      "           2       1.00      1.00      1.00    172867\n",
      "           3       1.00      1.00      1.00    173284\n",
      "           4       1.00      1.00      1.00    173009\n",
      "           5       1.00      1.00      1.00    172864\n",
      "           6       1.00      1.00      1.00    172974\n",
      "           7       1.00      1.00      1.00    172484\n",
      "           8       1.00      1.00      1.00    173526\n",
      "           9       1.00      1.00      1.00    172666\n",
      "          10       1.00      1.00      1.00    173461\n",
      "\n",
      "    accuracy                           1.00   1903143\n",
      "   macro avg       1.00      1.00      1.00   1903143\n",
      "weighted avg       1.00      1.00      1.00   1903143\n",
      "\n"
     ]
    }
   ],
   "source": [
    "print(classification_report(Y_test,Y_pred))"
   ]
  },
  {
   "cell_type": "code",
   "execution_count": 135,
   "id": "f7eab889",
   "metadata": {},
   "outputs": [
    {
     "data": {
      "text/html": [
       "<div>\n",
       "<style scoped>\n",
       "    .dataframe tbody tr th:only-of-type {\n",
       "        vertical-align: middle;\n",
       "    }\n",
       "\n",
       "    .dataframe tbody tr th {\n",
       "        vertical-align: top;\n",
       "    }\n",
       "\n",
       "    .dataframe thead th {\n",
       "        text-align: right;\n",
       "    }\n",
       "</style>\n",
       "<table border=\"1\" class=\"dataframe\">\n",
       "  <thead>\n",
       "    <tr style=\"text-align: right;\">\n",
       "      <th>col_0</th>\n",
       "      <th>0</th>\n",
       "      <th>1</th>\n",
       "      <th>2</th>\n",
       "      <th>3</th>\n",
       "      <th>4</th>\n",
       "      <th>5</th>\n",
       "      <th>6</th>\n",
       "      <th>7</th>\n",
       "      <th>8</th>\n",
       "      <th>9</th>\n",
       "      <th>10</th>\n",
       "    </tr>\n",
       "    <tr>\n",
       "      <th>Attack</th>\n",
       "      <th></th>\n",
       "      <th></th>\n",
       "      <th></th>\n",
       "      <th></th>\n",
       "      <th></th>\n",
       "      <th></th>\n",
       "      <th></th>\n",
       "      <th></th>\n",
       "      <th></th>\n",
       "      <th></th>\n",
       "      <th></th>\n",
       "    </tr>\n",
       "  </thead>\n",
       "  <tbody>\n",
       "    <tr>\n",
       "      <th>0</th>\n",
       "      <td>173174</td>\n",
       "      <td>0</td>\n",
       "      <td>2</td>\n",
       "      <td>3</td>\n",
       "      <td>1</td>\n",
       "      <td>5</td>\n",
       "      <td>2</td>\n",
       "      <td>4</td>\n",
       "      <td>3</td>\n",
       "      <td>16</td>\n",
       "      <td>0</td>\n",
       "    </tr>\n",
       "    <tr>\n",
       "      <th>1</th>\n",
       "      <td>6</td>\n",
       "      <td>172792</td>\n",
       "      <td>0</td>\n",
       "      <td>0</td>\n",
       "      <td>0</td>\n",
       "      <td>0</td>\n",
       "      <td>0</td>\n",
       "      <td>0</td>\n",
       "      <td>0</td>\n",
       "      <td>0</td>\n",
       "      <td>0</td>\n",
       "    </tr>\n",
       "    <tr>\n",
       "      <th>2</th>\n",
       "      <td>5</td>\n",
       "      <td>0</td>\n",
       "      <td>172861</td>\n",
       "      <td>1</td>\n",
       "      <td>0</td>\n",
       "      <td>0</td>\n",
       "      <td>0</td>\n",
       "      <td>0</td>\n",
       "      <td>0</td>\n",
       "      <td>0</td>\n",
       "      <td>0</td>\n",
       "    </tr>\n",
       "    <tr>\n",
       "      <th>3</th>\n",
       "      <td>3</td>\n",
       "      <td>0</td>\n",
       "      <td>2</td>\n",
       "      <td>173279</td>\n",
       "      <td>0</td>\n",
       "      <td>0</td>\n",
       "      <td>0</td>\n",
       "      <td>0</td>\n",
       "      <td>0</td>\n",
       "      <td>0</td>\n",
       "      <td>0</td>\n",
       "    </tr>\n",
       "    <tr>\n",
       "      <th>4</th>\n",
       "      <td>1</td>\n",
       "      <td>0</td>\n",
       "      <td>0</td>\n",
       "      <td>0</td>\n",
       "      <td>173008</td>\n",
       "      <td>0</td>\n",
       "      <td>0</td>\n",
       "      <td>0</td>\n",
       "      <td>0</td>\n",
       "      <td>0</td>\n",
       "      <td>0</td>\n",
       "    </tr>\n",
       "    <tr>\n",
       "      <th>5</th>\n",
       "      <td>0</td>\n",
       "      <td>0</td>\n",
       "      <td>0</td>\n",
       "      <td>0</td>\n",
       "      <td>0</td>\n",
       "      <td>172862</td>\n",
       "      <td>0</td>\n",
       "      <td>1</td>\n",
       "      <td>0</td>\n",
       "      <td>1</td>\n",
       "      <td>0</td>\n",
       "    </tr>\n",
       "    <tr>\n",
       "      <th>6</th>\n",
       "      <td>0</td>\n",
       "      <td>0</td>\n",
       "      <td>0</td>\n",
       "      <td>0</td>\n",
       "      <td>0</td>\n",
       "      <td>0</td>\n",
       "      <td>172974</td>\n",
       "      <td>0</td>\n",
       "      <td>0</td>\n",
       "      <td>0</td>\n",
       "      <td>0</td>\n",
       "    </tr>\n",
       "    <tr>\n",
       "      <th>7</th>\n",
       "      <td>0</td>\n",
       "      <td>0</td>\n",
       "      <td>0</td>\n",
       "      <td>0</td>\n",
       "      <td>0</td>\n",
       "      <td>0</td>\n",
       "      <td>2</td>\n",
       "      <td>172478</td>\n",
       "      <td>0</td>\n",
       "      <td>4</td>\n",
       "      <td>0</td>\n",
       "    </tr>\n",
       "    <tr>\n",
       "      <th>8</th>\n",
       "      <td>0</td>\n",
       "      <td>0</td>\n",
       "      <td>0</td>\n",
       "      <td>0</td>\n",
       "      <td>0</td>\n",
       "      <td>0</td>\n",
       "      <td>0</td>\n",
       "      <td>0</td>\n",
       "      <td>173526</td>\n",
       "      <td>0</td>\n",
       "      <td>0</td>\n",
       "    </tr>\n",
       "    <tr>\n",
       "      <th>9</th>\n",
       "      <td>1</td>\n",
       "      <td>0</td>\n",
       "      <td>0</td>\n",
       "      <td>0</td>\n",
       "      <td>0</td>\n",
       "      <td>0</td>\n",
       "      <td>4</td>\n",
       "      <td>0</td>\n",
       "      <td>2</td>\n",
       "      <td>172659</td>\n",
       "      <td>0</td>\n",
       "    </tr>\n",
       "    <tr>\n",
       "      <th>10</th>\n",
       "      <td>10</td>\n",
       "      <td>0</td>\n",
       "      <td>0</td>\n",
       "      <td>0</td>\n",
       "      <td>0</td>\n",
       "      <td>0</td>\n",
       "      <td>0</td>\n",
       "      <td>0</td>\n",
       "      <td>0</td>\n",
       "      <td>0</td>\n",
       "      <td>173451</td>\n",
       "    </tr>\n",
       "  </tbody>\n",
       "</table>\n",
       "</div>"
      ],
      "text/plain": [
       "col_0       0       1       2       3       4       5       6       7   \\\n",
       "Attack                                                                   \n",
       "0       173174       0       2       3       1       5       2       4   \n",
       "1            6  172792       0       0       0       0       0       0   \n",
       "2            5       0  172861       1       0       0       0       0   \n",
       "3            3       0       2  173279       0       0       0       0   \n",
       "4            1       0       0       0  173008       0       0       0   \n",
       "5            0       0       0       0       0  172862       0       1   \n",
       "6            0       0       0       0       0       0  172974       0   \n",
       "7            0       0       0       0       0       0       2  172478   \n",
       "8            0       0       0       0       0       0       0       0   \n",
       "9            1       0       0       0       0       0       4       0   \n",
       "10          10       0       0       0       0       0       0       0   \n",
       "\n",
       "col_0       8       9       10  \n",
       "Attack                          \n",
       "0            3      16       0  \n",
       "1            0       0       0  \n",
       "2            0       0       0  \n",
       "3            0       0       0  \n",
       "4            0       0       0  \n",
       "5            0       1       0  \n",
       "6            0       0       0  \n",
       "7            0       4       0  \n",
       "8       173526       0       0  \n",
       "9            2  172659       0  \n",
       "10           0       0  173451  "
      ]
     },
     "execution_count": 135,
     "metadata": {},
     "output_type": "execute_result"
    }
   ],
   "source": [
    "pd.crosstab(Y_test,Y_pred)"
   ]
  },
  {
   "cell_type": "markdown",
   "id": "1b26b0ee",
   "metadata": {},
   "source": [
    "The model demonstrates strong predictive performance on both training and testing datasets in the multinomial classification, suggesting its potential utility in a network intrusion detection system."
   ]
  }
 ],
 "metadata": {
  "kernelspec": {
   "display_name": "Python 3 (ipykernel)",
   "language": "python",
   "name": "python3"
  },
  "language_info": {
   "codemirror_mode": {
    "name": "ipython",
    "version": 3
   },
   "file_extension": ".py",
   "mimetype": "text/x-python",
   "name": "python",
   "nbconvert_exporter": "python",
   "pygments_lexer": "ipython3",
   "version": "3.9.13"
  }
 },
 "nbformat": 4,
 "nbformat_minor": 5
}
